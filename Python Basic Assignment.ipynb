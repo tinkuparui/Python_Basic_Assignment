{
 "cells": [
  {
   "cell_type": "markdown",
   "id": "0e5591af-b551-48a8-ab33-07798b4a030b",
   "metadata": {},
   "source": [
    "Q1. Explain the key features of Python that make it a popular choice for programming?"
   ]
  },
  {
   "cell_type": "markdown",
   "id": "ca8ef12b-9942-46e5-bd82-724d10cb5a12",
   "metadata": {},
   "source": [
    "Python is a great choice when it comes to programming due to the key features mentioned below:\n",
    "\n",
    "    # Python is simple and easy to understand and learn (syntax  is just like writing english).\n",
    "    # Python is widely used in different domains such as software and website development, website designing, Data analytics, Machine learning, Data science, etc.\n",
    "    # It is open source and free to use.\n",
    "    # It has large number of libraries with a huge community."
   ]
  },
  {
   "cell_type": "markdown",
   "id": "3bbc337c-4179-4431-82f7-40d6f8bd8564",
   "metadata": {},
   "source": [
    "Q2. Describe the role of predefined keywords in Python and provide examples of how they are used in a\n",
    "program."
   ]
  },
  {
   "cell_type": "markdown",
   "id": "d9fdd3a3-28ca-47da-919b-9d6a78fbb536",
   "metadata": {},
   "source": [
    "Pre-defined keywords are the set of reserved keywords which has a special meaning in the python programming. It is used in the python syntax ann cannot be used as a variable since they have already defined functions.\n",
    "\n",
    "For ex: print, for, if, else, as. etc."
   ]
  },
  {
   "cell_type": "markdown",
   "id": "d5e5eb15-20eb-41cd-a0b2-459408b1c54b",
   "metadata": {},
   "source": [
    "Q3. Compare and contrast mutable and immutable objects in Python with examples."
   ]
  },
  {
   "cell_type": "markdown",
   "id": "e4f12636-6188-4321-92f3-d12408c4cbb3",
   "metadata": {},
   "source": [
    "Mutable objects can be changed after creation whereas immutable objects cannot be changed after creation.\n",
    "\n",
    "Mutable objects should be handled carefully else it can throws an error whereas immutable objects are safer to use in programming.\n",
    "\n",
    "Mutable object Example: List, set\n",
    "\n",
    "Immutable object Example: string, tuple"
   ]
  },
  {
   "cell_type": "markdown",
   "id": "780a6071-dec3-4ed9-97bb-addbe078f043",
   "metadata": {},
   "source": [
    "Q4. Discuss the different types of operators in Python and provide examples of how they are used."
   ]
  },
  {
   "cell_type": "markdown",
   "id": "4ede4c7e-5dde-49fa-8ec2-e8a1c6621881",
   "metadata": {},
   "source": [
    "The different types of operator mentioned below:\n",
    "\n",
    "    1. Arithmetic operator - to do math calculation\n",
    "            Like +, -, *, / e.g. 1 + 2\n",
    "    2. Assignment Operator - to assign value\n",
    "            Like =, +=. -=. *= e.g. a += 2 same as a = a + 2\n",
    "    3. Logical Operator - Combine conditional statements\n",
    "            Like and, or, not e.g. a > 2 and b < 5\n",
    "    4. CComparison Operators - compare values\n",
    "            ==, !=, >, <, >=, <= e.g. a > b, x == y"
   ]
  },
  {
   "cell_type": "markdown",
   "id": "d46f15b1-6886-4e50-a610-8ae0173b3d9e",
   "metadata": {},
   "source": [
    "Q5. Explain the concept of type casting in Python with examples"
   ]
  },
  {
   "cell_type": "markdown",
   "id": "6d58fb56-70d5-4417-8d51-c779e0ec5825",
   "metadata": {},
   "source": [
    "Type casting refers to converting a value from one data type to another.\n",
    "\n",
    "For Example: int(), str(), float(), bool()"
   ]
  },
  {
   "cell_type": "code",
   "execution_count": 24,
   "id": "6ff2a237-4b79-41f1-975b-c208ad0ad2f4",
   "metadata": {},
   "outputs": [
    {
     "name": "stdout",
     "output_type": "stream",
     "text": [
      "15\n"
     ]
    }
   ],
   "source": [
    "x = \"10\"\n",
    "y = int(x)\n",
    "print(y + 5)"
   ]
  },
  {
   "cell_type": "markdown",
   "id": "0bbb6a4e-5898-46d5-a13f-c69b36fc24f8",
   "metadata": {},
   "source": []
  },
  {
   "cell_type": "markdown",
   "id": "a3eabd92-f476-486e-b6e4-2bbc0fda5b55",
   "metadata": {},
   "source": [
    "Q6. How do conditional statements work in Python? Illustrate with examples."
   ]
  },
  {
   "cell_type": "markdown",
   "id": "bc514036-ab57-43fb-9c82-377c3e0858fe",
   "metadata": {},
   "source": [
    "Conditional statements are used to make decisions in Python. They execute different blocks of code based on whether a condition is True or False."
   ]
  },
  {
   "cell_type": "code",
   "execution_count": 2,
   "id": "e4b7a197-02f4-4b08-9b07-e80f8cc2c269",
   "metadata": {},
   "outputs": [
    {
     "name": "stdout",
     "output_type": "stream",
     "text": [
      "x is greater than 5\n"
     ]
    }
   ],
   "source": [
    "x = 10\n",
    "if x > 5:\n",
    "    print(\"x is greater than 5\")"
   ]
  },
  {
   "cell_type": "markdown",
   "id": "4b668210-175a-4a31-a455-fe65b443ef7d",
   "metadata": {},
   "source": [
    "Q7. Describe the different types of loops in Python and their use cases with examples."
   ]
  },
  {
   "cell_type": "markdown",
   "id": "88a6ba65-e906-4590-af2a-7dc94619a88c",
   "metadata": {},
   "source": [
    "Loops are used to repeat a block of code multiple times based on the conditions given."
   ]
  },
  {
   "cell_type": "code",
   "execution_count": 6,
   "id": "70aec6bd-8755-480b-8753-507ef520e4a6",
   "metadata": {},
   "outputs": [
    {
     "name": "stdout",
     "output_type": "stream",
     "text": [
      "0\n",
      "1\n",
      "2\n",
      "3\n",
      "4\n"
     ]
    }
   ],
   "source": [
    "# Example: Print numbers 0 to 4\n",
    "for i in range(5):\n",
    "    print(i)"
   ]
  },
  {
   "cell_type": "code",
   "execution_count": 8,
   "id": "232a0229-1be3-455f-95d4-c5db576b5a4a",
   "metadata": {},
   "outputs": [
    {
     "name": "stdout",
     "output_type": "stream",
     "text": [
      "1\n",
      "2\n",
      "3\n",
      "4\n",
      "5\n"
     ]
    }
   ],
   "source": [
    "# Example: Print numbers 1 to 5\n",
    "i = 1\n",
    "while i <= 5:\n",
    "    print(i)\n",
    "    i += 1"
   ]
  },
  {
   "cell_type": "code",
   "execution_count": null,
   "id": "098eb5d9-40aa-427d-ac71-855eeb8bfa33",
   "metadata": {},
   "outputs": [],
   "source": []
  }
 ],
 "metadata": {
  "kernelspec": {
   "display_name": "Python [conda env:base] *",
   "language": "python",
   "name": "conda-base-py"
  },
  "language_info": {
   "codemirror_mode": {
    "name": "ipython",
    "version": 3
   },
   "file_extension": ".py",
   "mimetype": "text/x-python",
   "name": "python",
   "nbconvert_exporter": "python",
   "pygments_lexer": "ipython3",
   "version": "3.12.7"
  }
 },
 "nbformat": 4,
 "nbformat_minor": 5
}
