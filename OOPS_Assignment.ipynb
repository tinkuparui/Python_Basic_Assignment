{
 "cells": [
  {
   "cell_type": "markdown",
   "id": "6dd31a4b-44bb-4a5e-b6ae-fcab9ab73046",
   "metadata": {},
   "source": [
    "Practical Questions"
   ]
  },
  {
   "cell_type": "markdown",
   "id": "b029326e-27fe-4cb9-ab5e-9a6ec949887d",
   "metadata": {},
   "source": [
    "1. Create a parent class Animal with a method speak() that prints a generic message. Create a child class Dog\n",
    "that overrides the speak() method to print \"Bark!\"."
   ]
  },
  {
   "cell_type": "code",
   "execution_count": 3,
   "id": "4879e3c2-8d56-4021-bb82-2c6b8b08d0d1",
   "metadata": {},
   "outputs": [
    {
     "name": "stdout",
     "output_type": "stream",
     "text": [
      "Bark!\n"
     ]
    }
   ],
   "source": [
    "class Animal:\n",
    "    def speak(self):\n",
    "        print(\"Animal Voice\")\n",
    "\n",
    "class Dog(Animal):\n",
    "    def speak(self):\n",
    "        print(\"Bark!\")\n",
    "\n",
    "dog = Dog()\n",
    "dog.speak()"
   ]
  },
  {
   "cell_type": "markdown",
   "id": "ab7388ac-a613-4837-b4be-247599110175",
   "metadata": {},
   "source": [
    "2. Write a program to create an abstract class Shape with a method area(). Derive classes Circle and Rectangle\n",
    "from it and implement the area() method in both."
   ]
  },
  {
   "cell_type": "code",
   "execution_count": 10,
   "id": "e203963b-6cf0-49f3-a7f0-1e69bd3b5545",
   "metadata": {},
   "outputs": [
    {
     "name": "stdout",
     "output_type": "stream",
     "text": [
      "area of circle\n"
     ]
    }
   ],
   "source": [
    "from abc import ABC\n",
    "\n",
    "class Shape(ABC):\n",
    "    @abstractmethod\n",
    "    def area(self):\n",
    "        pass\n",
    "\n",
    "class Circle(Shape):\n",
    "    def area(self):\n",
    "        print(\"area of circle\")\n",
    "\n",
    "class Rectangle(Shape):\n",
    "    def area(self):\n",
    "        print(\"area of Rectangle\")\n",
    "\n",
    "circle = Circle()\n",
    "circle.area()"
   ]
  },
  {
   "cell_type": "markdown",
   "id": "50ae1ed2-e5a9-4711-850b-3489198f8506",
   "metadata": {},
   "source": [
    "3. Implement a multi-level inheritance scenario where a class Vehicle has an attribute type. Derive a class Car\n",
    "and further derive a class ElectricCar that adds a battery attribute."
   ]
  },
  {
   "cell_type": "code",
   "execution_count": 24,
   "id": "dfef8ec4-dc2b-42dd-974d-86c49d60e372",
   "metadata": {},
   "outputs": [
    {
     "name": "stdout",
     "output_type": "stream",
     "text": [
      "Vehicle Type: Car\n",
      "Brand: Tesla\n",
      "Battery Capacity: 75 kWh\n"
     ]
    }
   ],
   "source": [
    "# Base class\n",
    "class Vehicle:\n",
    "    def __init__(self, type):\n",
    "        self.type = type\n",
    "\n",
    "    def display_info(self):\n",
    "        print(f\"Vehicle Type: {self.type}\")\n",
    "\n",
    "# First derived class\n",
    "class Car(Vehicle):\n",
    "    def __init__(self, type, brand):\n",
    "        super().__init__(type)\n",
    "        self.brand = brand\n",
    "\n",
    "    def display_info(self):\n",
    "        super().display_info()\n",
    "        print(f\"Brand: {self.brand}\")\n",
    "\n",
    "# Second derived class\n",
    "class ElectricCar(Car):\n",
    "    def __init__(self, type, brand, battery_capacity):\n",
    "        super().__init__(type, brand)\n",
    "        self.battery_capacity = battery_capacity\n",
    "\n",
    "    def display_info(self):\n",
    "        super().display_info()\n",
    "        print(f\"Battery Capacity: {self.battery_capacity} kWh\")\n",
    "\n",
    "# Example usage\n",
    "my_electric_car = ElectricCar(\"Car\", \"Tesla\", 75)\n",
    "my_electric_car.display_info()\n"
   ]
  },
  {
   "cell_type": "markdown",
   "id": "21f31692-580a-4b81-8486-87f3ca403e21",
   "metadata": {},
   "source": [
    "4. Demonstrate polymorphism by creating a base class Bird with a method fly(). Create two derived classes\n",
    "Sparrow and Penguin that override the fly() method."
   ]
  },
  {
   "cell_type": "code",
   "execution_count": 29,
   "id": "f6061152-e581-4b47-9b46-524ef11ea91f",
   "metadata": {},
   "outputs": [
    {
     "name": "stdout",
     "output_type": "stream",
     "text": [
      "Sparrow Fly\n"
     ]
    }
   ],
   "source": [
    "class Bird:\n",
    "    def fly(self):\n",
    "        print(\"Birds Fly\")\n",
    "\n",
    "class Sparrow(Bird):\n",
    "    def fly(self):\n",
    "        print(\"Sparrow Fly\")\n",
    "\n",
    "class Penguim(Bird):\n",
    "    def fly(self):\n",
    "        print(\"Penguim Fly\")\n",
    "\n",
    "spr = Sparrow()\n",
    "spr.fly()"
   ]
  },
  {
   "cell_type": "markdown",
   "id": "b8dd0f28-f890-40b8-9b40-ef72d627ba60",
   "metadata": {},
   "source": [
    "5. Write a program to demonstrate encapsulation by creating a class BankAccount with private attributes\n",
    "balance and methods to deposit, withdraw, and check balance."
   ]
  },
  {
   "cell_type": "code",
   "execution_count": 46,
   "id": "6915dd9f-de71-4c38-8b71-4f8524a1f314",
   "metadata": {},
   "outputs": [],
   "source": [
    "class BankAccount:\n",
    "    def __init__(self, balance):\n",
    "        self.__balance = balance\n",
    "\n",
    "    def deposit(self, amount):\n",
    "        self.amount = amount\n",
    "        self.__balance = self.__balance + amount\n",
    "        print(\"Total Balance is\", self.__balance)\n",
    "\n",
    "    def withdraw(self, amount):\n",
    "        self.amount = amount\n",
    "        if amount < self.__balance:\n",
    "            self.__balance = self.__balance - amount\n",
    "            print(\"Total Balance is\", self.__balance)\n",
    "        else:\n",
    "            print(\"Balance is low\")\n",
    "\n",
    "    def check_balance(self):\n",
    "        print(\"Your Balance is\", self.__balance)\n",
    "\n",
    "account = BankAccount(50000)"
   ]
  },
  {
   "cell_type": "code",
   "execution_count": 50,
   "id": "eee76154-096c-4bdd-8daa-9a4f8b2f49c8",
   "metadata": {},
   "outputs": [
    {
     "name": "stdout",
     "output_type": "stream",
     "text": [
      "Total Balance is 51000\n"
     ]
    }
   ],
   "source": [
    "account.deposit(1000)"
   ]
  },
  {
   "cell_type": "code",
   "execution_count": 52,
   "id": "142ff11c-21c5-47e9-b1e7-d111ed325271",
   "metadata": {},
   "outputs": [
    {
     "name": "stdout",
     "output_type": "stream",
     "text": [
      "Total Balance is 1000\n"
     ]
    }
   ],
   "source": [
    "account.withdraw(50000)"
   ]
  },
  {
   "cell_type": "code",
   "execution_count": 54,
   "id": "1a0a45ad-90ee-40b1-9361-7783a757f26f",
   "metadata": {},
   "outputs": [
    {
     "name": "stdout",
     "output_type": "stream",
     "text": [
      "Your Balance is 1000\n"
     ]
    }
   ],
   "source": [
    "account.check_balance()"
   ]
  },
  {
   "cell_type": "markdown",
   "id": "f82b74c4-988e-4252-ac6b-ba6c036a227c",
   "metadata": {},
   "source": [
    "6. Demonstrate runtime polymorphism using a method play() in a base class Instrument. Derive classes Guitar\n",
    "and Piano that implement their own version of play()."
   ]
  },
  {
   "cell_type": "code",
   "execution_count": 57,
   "id": "d7fd15ef-478d-459e-931b-63ae3ae7deed",
   "metadata": {},
   "outputs": [
    {
     "name": "stdout",
     "output_type": "stream",
     "text": [
      "Guitar is playing a melody.\n",
      "Piano is playing a tune.\n"
     ]
    }
   ],
   "source": [
    "# Base class\n",
    "class Instrument:\n",
    "    def play(self):\n",
    "        print(\"Instrument is playing.\")\n",
    "\n",
    "# Derived class Guitar\n",
    "class Guitar(Instrument):\n",
    "    def play(self):\n",
    "        print(\"Guitar is playing a melody.\")\n",
    "\n",
    "# Derived class Piano\n",
    "class Piano(Instrument):\n",
    "    def play(self):\n",
    "        print(\"Piano is playing a tune.\")\n",
    "\n",
    "# Function to demonstrate runtime polymorphism\n",
    "def perform(instrument):\n",
    "    instrument.play()  # Calls the appropriate version of play() based on object type\n",
    "\n",
    "# Create objects\n",
    "guitar = Guitar()\n",
    "piano = Piano()\n",
    "\n",
    "# Demonstrating runtime polymorphism\n",
    "perform(guitar)  # Output: Guitar is playing a melody.\n",
    "perform(piano)   # Output: Piano is playing a tune.\n"
   ]
  },
  {
   "cell_type": "markdown",
   "id": "3a91740f-7517-4157-a76a-6fb2cb53fcc8",
   "metadata": {},
   "source": [
    "7. Create a class MathOperations with a class method add_numbers() to add two numbers and a static\n",
    "method subtract_numbers() to subtract two numbers."
   ]
  },
  {
   "cell_type": "code",
   "execution_count": 68,
   "id": "7f386d16-cf57-4033-a599-b9d6a03f645b",
   "metadata": {},
   "outputs": [],
   "source": [
    "class MathOperations:\n",
    "\n",
    "    @classmethod\n",
    "    def add_numbers(cls,a,b):\n",
    "        return a + b\n",
    "\n",
    "    @staticmethod\n",
    "    def substract_numbers(a,b):\n",
    "        return a - b"
   ]
  },
  {
   "cell_type": "code",
   "execution_count": 70,
   "id": "89201992-b346-465d-bc64-c2fd20b68dfa",
   "metadata": {},
   "outputs": [
    {
     "data": {
      "text/plain": [
       "2"
      ]
     },
     "execution_count": 70,
     "metadata": {},
     "output_type": "execute_result"
    }
   ],
   "source": [
    "MathOperations.substract_numbers(4,2)"
   ]
  },
  {
   "cell_type": "markdown",
   "id": "3d927ef2-6b28-443a-a5ad-448861e43640",
   "metadata": {},
   "source": [
    "8. Implement a class Person with a class method to count the total number of persons created."
   ]
  },
  {
   "cell_type": "code",
   "execution_count": 83,
   "id": "b68c0d2a-11ba-456b-841e-59dbdb633495",
   "metadata": {},
   "outputs": [
    {
     "name": "stdout",
     "output_type": "stream",
     "text": [
      "Total Persons Created: 3\n"
     ]
    }
   ],
   "source": [
    "class Person:\n",
    "    count = 0  # Class variable to keep track of number of persons\n",
    "\n",
    "    def __init__(self, name):\n",
    "        self.name = name\n",
    "        Person.count += 1  # Increment count when a new object is created\n",
    "\n",
    "    @classmethod\n",
    "    def get_person_count(cls):\n",
    "        return cls.count  # Access class variable using cls\n",
    "\n",
    "# Creating objects\n",
    "p1 = Person(\"Alice\")\n",
    "p2 = Person(\"Bob\")\n",
    "p3 = Person(\"Charlie\")\n",
    "\n",
    "# Using class method to get total count\n",
    "print(\"Total Persons Created:\", Person.get_person_count())"
   ]
  },
  {
   "cell_type": "markdown",
   "id": "d834c28f-4c1f-47f7-9718-fea253d2a04d",
   "metadata": {},
   "source": [
    "9. Write a class Fraction with attributes numerator and denominator. Override the str method to display the\n",
    "fraction as \"numerator/denominator\"."
   ]
  },
  {
   "cell_type": "code",
   "execution_count": 89,
   "id": "01b0044d-25f0-4361-b836-b11b7bcfd86f",
   "metadata": {},
   "outputs": [
    {
     "name": "stdout",
     "output_type": "stream",
     "text": [
      "3/4\n"
     ]
    }
   ],
   "source": [
    "class Fraction:\n",
    "    def __init__(self, numerator, denominator):\n",
    "        self.numerator = numerator\n",
    "        self.denominator = denominator\n",
    "\n",
    "    def __str__(self):\n",
    "        return f\"{self.numerator}/{self.denominator}\"\n",
    "\n",
    "# Example\n",
    "f = Fraction(3, 4)\n",
    "print(f)  # Output: 3/4\n"
   ]
  },
  {
   "cell_type": "markdown",
   "id": "36448da1-da59-4a00-b510-00d032dd0c60",
   "metadata": {},
   "source": [
    "10. Demonstrate operator overloading by creating a class Vector and overriding the add method to add two\n",
    "vectors."
   ]
  },
  {
   "cell_type": "code",
   "execution_count": 92,
   "id": "2e231d90-88c2-4477-8b17-5133da1dd505",
   "metadata": {},
   "outputs": [
    {
     "name": "stdout",
     "output_type": "stream",
     "text": [
      "(6, 8)\n"
     ]
    }
   ],
   "source": [
    "class Vector:\n",
    "    def __init__(self, x, y):\n",
    "        self.x = x\n",
    "        self.y = y\n",
    "\n",
    "    def __add__(self, other):\n",
    "        return Vector(self.x + other.x, self.y + other.y)\n",
    "\n",
    "    def __str__(self):\n",
    "        return f\"({self.x}, {self.y})\"\n",
    "\n",
    "# Example\n",
    "v1 = Vector(2, 3)\n",
    "v2 = Vector(4, 5)\n",
    "v3 = v1 + v2\n",
    "print(v3)  # Output: (6, 8)\n"
   ]
  },
  {
   "cell_type": "markdown",
   "id": "f37c4663-a474-4671-8a12-5f2b80fbbe59",
   "metadata": {},
   "source": [
    "11. Create a class Person with attributes name and age. Add a method greet() that prints \"Hello, my name is\n",
    "{name} and I am {age} years old.\""
   ]
  },
  {
   "cell_type": "code",
   "execution_count": 95,
   "id": "08c084ec-cf2b-488e-afc3-333f51e3f39d",
   "metadata": {},
   "outputs": [
    {
     "name": "stdout",
     "output_type": "stream",
     "text": [
      "Hello, my name is Alice and I am 30 years old.\n"
     ]
    }
   ],
   "source": [
    "class Person:\n",
    "    def __init__(self, name, age):\n",
    "        self.name = name\n",
    "        self.age = age\n",
    "\n",
    "    def greet(self):\n",
    "        print(f\"Hello, my name is {self.name} and I am {self.age} years old.\")\n",
    "\n",
    "# Example\n",
    "p = Person(\"Alice\", 30)\n",
    "p.greet()\n"
   ]
  },
  {
   "cell_type": "markdown",
   "id": "78adf859-221c-444f-926b-3111353e2431",
   "metadata": {},
   "source": [
    "12. Implement a class Student with attributes name and grades. Create a method average_grade() to compute\n",
    "the average of the grades."
   ]
  },
  {
   "cell_type": "code",
   "execution_count": 98,
   "id": "3ac83290-3f23-4596-b052-f0ceade7fbcb",
   "metadata": {},
   "outputs": [
    {
     "name": "stdout",
     "output_type": "stream",
     "text": [
      "Average Grade: 90.0\n"
     ]
    }
   ],
   "source": [
    "class Student:\n",
    "    def __init__(self, name, grades):\n",
    "        self.name = name\n",
    "        self.grades = grades\n",
    "\n",
    "    def average_grade(self):\n",
    "        return sum(self.grades) / len(self.grades)\n",
    "\n",
    "# Example\n",
    "s = Student(\"Bob\", [85, 90, 95])\n",
    "print(\"Average Grade:\", s.average_grade())\n"
   ]
  },
  {
   "cell_type": "markdown",
   "id": "867f1793-adc8-40ca-b3c3-d68cc2cfbdf5",
   "metadata": {},
   "source": [
    "13. Create a class Rectangle with methods set_dimensions() to set the dimensions and area() to calculate the\n",
    "area."
   ]
  },
  {
   "cell_type": "code",
   "execution_count": 101,
   "id": "47dea520-75f2-41f2-be65-6629843071a3",
   "metadata": {},
   "outputs": [
    {
     "name": "stdout",
     "output_type": "stream",
     "text": [
      "Area: 20\n"
     ]
    }
   ],
   "source": [
    "class Rectangle:\n",
    "    def set_dimensions(self, length, width):\n",
    "        self.length = length\n",
    "        self.width = width\n",
    "\n",
    "    def area(self):\n",
    "        return self.length * self.width\n",
    "\n",
    "# Example\n",
    "r = Rectangle()\n",
    "r.set_dimensions(5, 4)\n",
    "print(\"Area:\", r.area())\n"
   ]
  },
  {
   "cell_type": "markdown",
   "id": "166ae51e-ead9-45e2-9813-78603ce3d75c",
   "metadata": {},
   "source": [
    "14. Create a class Employee with a method calculate_salary() that computes the salary based on hours worked\n",
    "and hourly rate. Create a derived class Manager that adds a bonus to the salary."
   ]
  },
  {
   "cell_type": "code",
   "execution_count": 104,
   "id": "a0bc8f5e-f90c-4af2-993e-93cb3be5bc27",
   "metadata": {},
   "outputs": [
    {
     "name": "stdout",
     "output_type": "stream",
     "text": [
      "Manager Salary: 2500\n"
     ]
    }
   ],
   "source": [
    "class Employee:\n",
    "    def calculate_salary(self, hours_worked, hourly_rate):\n",
    "        return hours_worked * hourly_rate\n",
    "\n",
    "class Manager(Employee):\n",
    "    def calculate_salary(self, hours_worked, hourly_rate, bonus=0):\n",
    "        base_salary = super().calculate_salary(hours_worked, hourly_rate)\n",
    "        return base_salary + bonus\n",
    "\n",
    "# Example\n",
    "m = Manager()\n",
    "print(\"Manager Salary:\", m.calculate_salary(40, 50, 500))\n"
   ]
  },
  {
   "cell_type": "markdown",
   "id": "3ca9eb78-a6f6-4c23-a1f1-0504d3053b73",
   "metadata": {},
   "source": [
    "15. Create a class Product with attributes name, price, and quantity. Implement a method total_price() that\n",
    "calculates the total price of the product"
   ]
  },
  {
   "cell_type": "code",
   "execution_count": 107,
   "id": "7abf401a-4ba4-4fcc-b284-128bbaef6b10",
   "metadata": {},
   "outputs": [
    {
     "name": "stdout",
     "output_type": "stream",
     "text": [
      "Manager Salary: 2500\n"
     ]
    }
   ],
   "source": [
    "class Employee:\n",
    "    def calculate_salary(self, hours_worked, hourly_rate):\n",
    "        return hours_worked * hourly_rate\n",
    "\n",
    "class Manager(Employee):\n",
    "    def calculate_salary(self, hours_worked, hourly_rate, bonus=0):\n",
    "        base_salary = super().calculate_salary(hours_worked, hourly_rate)\n",
    "        return base_salary + bonus\n",
    "\n",
    "# Example\n",
    "m = Manager()\n",
    "print(\"Manager Salary:\", m.calculate_salary(40, 50, 500))\n"
   ]
  },
  {
   "cell_type": "markdown",
   "id": "dce321af-7572-432d-87c7-56ffe29f5250",
   "metadata": {},
   "source": [
    "16. Create a class Animal with an abstract method sound(). Create two derived classes Cow and Sheep that\n",
    "implement the sound() method."
   ]
  },
  {
   "cell_type": "code",
   "execution_count": 110,
   "id": "35f9e098-bdbf-4e52-b998-866fbf97eede",
   "metadata": {},
   "outputs": [
    {
     "name": "stdout",
     "output_type": "stream",
     "text": [
      "Cow: Moo\n",
      "Sheep: Baa\n"
     ]
    }
   ],
   "source": [
    "from abc import ABC, abstractmethod\n",
    "\n",
    "class Animal(ABC):\n",
    "    @abstractmethod\n",
    "    def sound(self):\n",
    "        pass\n",
    "\n",
    "class Cow(Animal):\n",
    "    def sound(self):\n",
    "        return \"Moo\"\n",
    "\n",
    "class Sheep(Animal):\n",
    "    def sound(self):\n",
    "        return \"Baa\"\n",
    "\n",
    "# Example\n",
    "c = Cow()\n",
    "s = Sheep()\n",
    "print(\"Cow:\", c.sound())\n",
    "print(\"Sheep:\", s.sound())\n"
   ]
  },
  {
   "cell_type": "markdown",
   "id": "9d9ce2c0-2ca7-466d-b70e-5d9e647aace9",
   "metadata": {},
   "source": [
    "17. Create a class Book with attributes title, author, and year_published. Add a method get_book_info() that\n",
    "returns a formatted string with the book's details."
   ]
  },
  {
   "cell_type": "code",
   "execution_count": 113,
   "id": "7e0507c3-858c-46d6-8a02-8fe506f44b30",
   "metadata": {},
   "outputs": [
    {
     "name": "stdout",
     "output_type": "stream",
     "text": [
      "'Atomic Habits' by James Clear (2018)\n"
     ]
    }
   ],
   "source": [
    "class Book:\n",
    "    def __init__(self, title, author, year_published):\n",
    "        self.title = title\n",
    "        self.author = author\n",
    "        self.year_published = year_published\n",
    "\n",
    "    def get_book_info(self):\n",
    "        return f\"'{self.title}' by {self.author} ({self.year_published})\"\n",
    "\n",
    "# Example\n",
    "b = Book(\"Atomic Habits\", \"James Clear\", 2018)\n",
    "print(b.get_book_info())\n"
   ]
  },
  {
   "cell_type": "markdown",
   "id": "ad5c95c6-10ab-47fc-a3ba-1dc030100011",
   "metadata": {},
   "source": [
    "18. Create a class House with attributes address and price. Create a derived class Mansion that adds an\n",
    "attribute number_of_rooms."
   ]
  },
  {
   "cell_type": "code",
   "execution_count": 116,
   "id": "80cfeb49-b249-45c6-a76c-91c0ded5ebcc",
   "metadata": {},
   "outputs": [
    {
     "name": "stdout",
     "output_type": "stream",
     "text": [
      "Address: 123 Luxury St, Price: ₹20000000, Rooms: 12\n"
     ]
    }
   ],
   "source": [
    "class House:\n",
    "    def __init__(self, address, price):\n",
    "        self.address = address\n",
    "        self.price = price\n",
    "\n",
    "class Mansion(House):\n",
    "    def __init__(self, address, price, number_of_rooms):\n",
    "        super().__init__(address, price)\n",
    "        self.number_of_rooms = number_of_rooms\n",
    "\n",
    "# Example\n",
    "m = Mansion(\"123 Luxury St\", 20000000, 12)\n",
    "print(f\"Address: {m.address}, Price: ₹{m.price}, Rooms: {m.number_of_rooms}\")\n"
   ]
  },
  {
   "cell_type": "code",
   "execution_count": null,
   "id": "94c62ba7-3e47-4cf6-93d4-fd22c23a2482",
   "metadata": {},
   "outputs": [],
   "source": []
  },
  {
   "cell_type": "code",
   "execution_count": null,
   "id": "c8380d80-e810-42e1-99e4-01676afd8943",
   "metadata": {},
   "outputs": [],
   "source": []
  },
  {
   "cell_type": "markdown",
   "id": "72c68295-8bec-4c70-a179-d74406c85eb3",
   "metadata": {},
   "source": [
    "Python OOPs Questions"
   ]
  },
  {
   "cell_type": "markdown",
   "id": "05fa6ceb-2b7b-451d-b449-2b794f1a99e3",
   "metadata": {},
   "source": [
    "1. What is Object-Oriented Programming (OOP)?"
   ]
  },
  {
   "cell_type": "markdown",
   "id": "3a0d3157-3fba-486d-8d2a-1a92e006c874",
   "metadata": {},
   "source": [
    "OOP is a programming paradigm based on objects which contain data (attributes) and functions (methods). It helps organize code, promote reusability, and mirror real-world entities."
   ]
  },
  {
   "cell_type": "markdown",
   "id": "85988590-d260-40f5-9d71-cfa20f17a952",
   "metadata": {},
   "source": [
    "2. What is a class in OOP?"
   ]
  },
  {
   "cell_type": "markdown",
   "id": "0a2e436f-e1d4-402b-ac4a-89f6a662ca9e",
   "metadata": {},
   "source": [
    "A class is a blueprint for creating objects. It defines attributes (variables) and methods (functions) common to all objects of that type."
   ]
  },
  {
   "cell_type": "markdown",
   "id": "ee33cd9d-f448-438c-8117-8b0f1ad98c58",
   "metadata": {},
   "source": [
    "3. What is an object in OOP?"
   ]
  },
  {
   "cell_type": "markdown",
   "id": "7f81caf9-ab2b-437b-97d1-1d14a2362878",
   "metadata": {},
   "source": [
    "An object is an instance of a class. It holds actual values for the class attributes and can use its methods."
   ]
  },
  {
   "cell_type": "markdown",
   "id": "bad67445-bdab-4b64-aee4-f50d6c978aef",
   "metadata": {},
   "source": [
    "4. What is the difference between abstraction and encapsulation?"
   ]
  },
  {
   "cell_type": "markdown",
   "id": "1a550082-769a-4ff6-9926-ad5bc273f14e",
   "metadata": {},
   "source": [
    "Abstraction\t    Hiding complex implementation and showing only relevant features.\n",
    "\n",
    "Encapsulation\tBinding data and methods together and restricting direct access."
   ]
  },
  {
   "cell_type": "markdown",
   "id": "5a4467f5-18fd-4562-864c-c76cd1641f09",
   "metadata": {},
   "source": [
    "5. What are dunder methods in Python?"
   ]
  },
  {
   "cell_type": "markdown",
   "id": "49ff9b00-1418-46c6-a674-cf331f0080c1",
   "metadata": {},
   "source": [
    "Dunder (Double UNDERSCORE) methods like __init__, __str__, __add__ are special methods that begin and end with double underscores and are used to define how objects behave with Python's built-in operators and functions."
   ]
  },
  {
   "cell_type": "markdown",
   "id": "61f2350e-4a88-40ba-822f-0d6799bdc191",
   "metadata": {},
   "source": [
    "6. Explain the concept of inheritance in OOP."
   ]
  },
  {
   "cell_type": "markdown",
   "id": "8a77677d-045c-464c-9f35-e384814bf38f",
   "metadata": {},
   "source": [
    "Inheritance allows a class (child) to inherit properties and methods from another class (parent), enabling code reuse."
   ]
  },
  {
   "cell_type": "markdown",
   "id": "d711129b-8936-489e-aa41-ff69a2a845c0",
   "metadata": {},
   "source": [
    "7. What is polymorphism in OOP?"
   ]
  },
  {
   "cell_type": "markdown",
   "id": "b1bb3814-8278-41a8-8a1b-94eb5e3bbff9",
   "metadata": {},
   "source": [
    "Polymorphism means \"many forms\" — the same method name behaves differently based on the object."
   ]
  },
  {
   "cell_type": "markdown",
   "id": "1e18c32e-402a-4513-8c86-8126d957b4ec",
   "metadata": {},
   "source": [
    "8.  How is encapsulation achieved in Python?"
   ]
  },
  {
   "cell_type": "markdown",
   "id": "af09a52e-12ce-4d92-b8bb-492a235220dd",
   "metadata": {},
   "source": [
    "Using private variables (e.g. __balance) and getter/setter methods to restrict and control access to class data."
   ]
  },
  {
   "cell_type": "markdown",
   "id": "86cce7df-cc3a-45fd-a690-0c7d30027a82",
   "metadata": {},
   "source": [
    "9. What is a constructor in Python?"
   ]
  },
  {
   "cell_type": "markdown",
   "id": "43b95ef3-5e75-4ba9-a18f-49bbd5d41d61",
   "metadata": {},
   "source": [
    "The __init__() method is the constructor. It is automatically called when an object is created to initialize it."
   ]
  },
  {
   "cell_type": "markdown",
   "id": "1d67eb45-8220-474d-829c-324e060aabb4",
   "metadata": {},
   "source": [
    "10. What are class and static methods in Python?"
   ]
  },
  {
   "cell_type": "markdown",
   "id": "96f7d313-a33f-40e7-9447-8f1cba0ef973",
   "metadata": {},
   "source": [
    "@classmethod: takes cls as the first parameter and works on class-level data.\n",
    "\n",
    "@staticmethod: doesn’t take self or cls, works like a regular function inside a class.\n"
   ]
  },
  {
   "cell_type": "markdown",
   "id": "468124d4-2fff-40fa-9f05-b2fd5bf50516",
   "metadata": {},
   "source": [
    "11. What is method overloading in Python?"
   ]
  },
  {
   "cell_type": "markdown",
   "id": "f8b2d75f-9919-40f4-9859-5075f57acae0",
   "metadata": {},
   "source": [
    "Python doesn't support true method overloading, but you can simulate it using default arguments or variable-length arguments."
   ]
  },
  {
   "cell_type": "markdown",
   "id": "cfd0085b-ffdb-4671-9d26-a1ad12d51ce9",
   "metadata": {},
   "source": [
    "12. What is method overriding in OOP?"
   ]
  },
  {
   "cell_type": "markdown",
   "id": "b726824f-cbc4-4005-af5e-111d0554f93d",
   "metadata": {},
   "source": [
    "When a subclass redefines a method of its parent class to change its behavior."
   ]
  },
  {
   "cell_type": "markdown",
   "id": "83d53541-9519-483e-8d0e-256820e0413e",
   "metadata": {},
   "source": [
    "13. What is a property decorator in Python?"
   ]
  },
  {
   "cell_type": "markdown",
   "id": "4efecfbc-93c6-439a-8c26-b18c604bb3ef",
   "metadata": {},
   "source": [
    "The @property decorator makes a method act like an attribute. It’s used for getter functionality."
   ]
  },
  {
   "cell_type": "markdown",
   "id": "4c8c358b-8185-4ce9-b3da-e13c03cb2c5c",
   "metadata": {},
   "source": [
    "14. Why is polymorphism important in OOP?"
   ]
  },
  {
   "cell_type": "markdown",
   "id": "24d31dcf-0e55-4fbc-a6df-6e4e2325f02d",
   "metadata": {},
   "source": [
    "It allows writing flexible and reusable code — the same function can work with different types of objects."
   ]
  },
  {
   "cell_type": "markdown",
   "id": "0431afc3-fab2-4d62-92d5-53adf382ee70",
   "metadata": {},
   "source": [
    "15. What is an abstract class in Python?"
   ]
  },
  {
   "cell_type": "markdown",
   "id": "4532486a-214b-4215-bac5-3bdc641b56dc",
   "metadata": {},
   "source": [
    "An abstract class is a class with at least one abstract method (@abstractmethod) that must be implemented by subclasses. Defined using the abc module."
   ]
  },
  {
   "cell_type": "markdown",
   "id": "44935607-8145-4525-b6dd-eaeba8f9c83f",
   "metadata": {},
   "source": [
    " 16. What are the advantages of OOP?"
   ]
  },
  {
   "cell_type": "markdown",
   "id": "940daeab-6979-483b-b94f-819b93468d78",
   "metadata": {},
   "source": [
    "Modularity\n",
    "\n",
    "Code reusability\n",
    "\n",
    "Data hiding (encapsulation)\n",
    "\n",
    "Scalability and maintainability\n",
    "\n",
    "Real-world modeling"
   ]
  },
  {
   "cell_type": "markdown",
   "id": "1068b452-40ac-416c-aa30-8aa645a16d0b",
   "metadata": {},
   "source": [
    "17. What is the difference between a class variable and an instance variable."
   ]
  },
  {
   "cell_type": "markdown",
   "id": "0c31ab34-d59f-4c8a-bb9d-4a5315e6f1a6",
   "metadata": {},
   "source": [
    "Class Variable\tBelongs to class\tYes (shared)\n",
    "Instance Variable\tBelongs to object\tNo (unique per object)"
   ]
  },
  {
   "cell_type": "markdown",
   "id": "fdcb14a8-3495-450d-8321-ced735c78d57",
   "metadata": {},
   "source": [
    "18. What is multiple inheritance in Python?"
   ]
  },
  {
   "cell_type": "markdown",
   "id": "7db1d2a7-b32f-419b-9bca-ef309a663427",
   "metadata": {},
   "source": [
    "When a class inherits from more than one parent class."
   ]
  },
  {
   "cell_type": "markdown",
   "id": "3251e7bc-d435-4df4-a341-5b20357cd00a",
   "metadata": {},
   "source": [
    "19. Explain the purpose of ‘’__str__’ and ‘__repr__’ ‘ methods in Python"
   ]
  },
  {
   "cell_type": "markdown",
   "id": "5b45c39a-c567-45bf-9368-a30dbc3f262d",
   "metadata": {},
   "source": [
    "__str__(): User-friendly string representation.\n",
    "\n",
    "__repr__(): Developer-friendly representation, ideally unambiguous."
   ]
  },
  {
   "cell_type": "markdown",
   "id": "63c9204d-fc18-49cd-af58-435eae8e8717",
   "metadata": {},
   "source": [
    "20. What is the significance of the ‘super()’ function in Python?"
   ]
  },
  {
   "cell_type": "markdown",
   "id": "f54beca6-8dce-4e67-85d6-a223cefdb889",
   "metadata": {},
   "source": [
    "super() is used to call a method from the parent class, often in constructors or overridden methods."
   ]
  },
  {
   "cell_type": "markdown",
   "id": "5a62e74f-f1c6-4b64-bba4-cf08239a13da",
   "metadata": {},
   "source": [
    "21. What is the significance of the __del__ method in Python?"
   ]
  },
  {
   "cell_type": "markdown",
   "id": "812a864f-65a3-41e4-89bb-250871a2e7ef",
   "metadata": {},
   "source": [
    "__del__() is the destructor, called when an object is about to be destroyed. Use with caution."
   ]
  },
  {
   "cell_type": "markdown",
   "id": "a0fb965e-ca51-42b2-b3ec-8e6785c2c126",
   "metadata": {},
   "source": [
    "22. What is the difference between @staticmethod and @classmethod in Python?"
   ]
  },
  {
   "cell_type": "markdown",
   "id": "e458e9f9-0033-4b01-b5a3-af07bf0cd732",
   "metadata": {},
   "source": [
    "Feature\t@staticmethod\t@classmethod\n",
    "\n",
    "First arg\tNone\tcls (class)\n",
    "Can modify class?\tNo\tYes"
   ]
  },
  {
   "cell_type": "markdown",
   "id": "66279282-a7f0-426b-8749-85f79df04f72",
   "metadata": {},
   "source": [
    "23. How does polymorphism work in Python with inheritance?"
   ]
  },
  {
   "cell_type": "markdown",
   "id": "359bfea2-49ee-4b5f-bd2b-de916389ce9f",
   "metadata": {},
   "source": [
    "Derived classes override base class methods. When you call the method on a base class reference, the derived class version is used at runtime — this is runtime polymorphism."
   ]
  },
  {
   "cell_type": "markdown",
   "id": "0081024f-4db8-4f57-b830-9ef27cd01b7d",
   "metadata": {},
   "source": [
    "24. What is method chaining in Python OOP?"
   ]
  },
  {
   "cell_type": "markdown",
   "id": "dcaedcf9-51a9-4155-89d0-743449f76c51",
   "metadata": {},
   "source": [
    "Calling multiple methods on the same object in one line — usually by returning self from each method."
   ]
  },
  {
   "cell_type": "markdown",
   "id": "69a86034-849b-4860-aa34-e41584688c73",
   "metadata": {},
   "source": [
    "25. What is the purpose of the __call__ method in Python?"
   ]
  },
  {
   "cell_type": "markdown",
   "id": "e0e581dd-7229-444e-abb1-ea6af754bb45",
   "metadata": {},
   "source": [
    "Allows an object to be called like a function."
   ]
  },
  {
   "cell_type": "code",
   "execution_count": null,
   "id": "57096a5a-a061-4d25-9d92-cdbe4a6b9285",
   "metadata": {},
   "outputs": [],
   "source": []
  }
 ],
 "metadata": {
  "kernelspec": {
   "display_name": "Python [conda env:base] *",
   "language": "python",
   "name": "conda-base-py"
  },
  "language_info": {
   "codemirror_mode": {
    "name": "ipython",
    "version": 3
   },
   "file_extension": ".py",
   "mimetype": "text/x-python",
   "name": "python",
   "nbconvert_exporter": "python",
   "pygments_lexer": "ipython3",
   "version": "3.12.7"
  }
 },
 "nbformat": 4,
 "nbformat_minor": 5
}
