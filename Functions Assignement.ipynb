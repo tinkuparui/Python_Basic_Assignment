{
 "cells": [
  {
   "cell_type": "markdown",
   "id": "4c0c8b48-901f-4cb5-b900-ca67d89a7eba",
   "metadata": {},
   "source": [
    "Theory Questions:"
   ]
  },
  {
   "cell_type": "markdown",
   "id": "a48e9ec2-a5db-4d64-ad3a-5f6f8f56fd32",
   "metadata": {},
   "source": [
    "1. What is the difference between a function and a method in Python?"
   ]
  },
  {
   "cell_type": "markdown",
   "id": "462433c4-e72f-42e1-b6a4-82d02bde279a",
   "metadata": {},
   "source": [
    "Function: A block of reusable code that is defined using the def keyword.\n",
    "\n",
    "Method: A function that is associated with an object (usually part of a class) and is called on that object."
   ]
  },
  {
   "cell_type": "code",
   "execution_count": null,
   "id": "968c54dc-a079-44f4-994a-7c089710d58d",
   "metadata": {},
   "outputs": [],
   "source": [
    "# Function\n",
    "def greet(name):\n",
    "    return \"Hello \" + name\n",
    "\n",
    "print(greet(\"Alice\"))\n",
    "\n",
    "# Method\n",
    "name = \"Alice\"\n",
    "print(name.upper())  # upper() is a string method"
   ]
  },
  {
   "cell_type": "markdown",
   "id": "7176bf04-8544-4c42-bcad-78c2cd0db619",
   "metadata": {},
   "source": [
    "2. Explain the concept of function arguments and parameters in Python."
   ]
  },
  {
   "cell_type": "markdown",
   "id": "0d05a2d5-c62e-4de7-b686-b4459e6aeef1",
   "metadata": {},
   "source": [
    "Parameters: The variables listed in a function’s definition.\n",
    "\n",
    "Arguments: The values you pass to a function when calling it."
   ]
  },
  {
   "cell_type": "code",
   "execution_count": null,
   "id": "de645ff3-ab83-491d-9d1e-1bfda6d87327",
   "metadata": {},
   "outputs": [],
   "source": [
    "def add(a, b):  # a, b are parameters\n",
    "    return a + b\n",
    "\n",
    "print(add(3, 4))  # 3 and 4 are arguments\n"
   ]
  },
  {
   "cell_type": "markdown",
   "id": "7f2dcf5a-608c-40f2-a0ef-70932d7c2ff8",
   "metadata": {},
   "source": [
    "3. What are the different ways to define and call a function in Python?"
   ]
  },
  {
   "cell_type": "markdown",
   "id": "01de1a96-c2e8-4f1c-ab89-bd49c834c0fc",
   "metadata": {},
   "source": [
    "Ways to define a function:\n",
    "\n",
    "Using def\n",
    "\n",
    "Using lambda for anonymous functions\n",
    "\n",
    "Ways to call a function:\n",
    "\n",
    "By name: func()\n",
    "\n",
    "Via a reference: f = func; f()"
   ]
  },
  {
   "cell_type": "code",
   "execution_count": null,
   "id": "87267cdd-a2a9-483a-a7cd-88e777895fa5",
   "metadata": {},
   "outputs": [],
   "source": [
    "# Named function\n",
    "def square(x):\n",
    "    return x * x\n",
    "\n",
    "# Lambda function\n",
    "cube = lambda x: x ** 3\n",
    "\n",
    "print(square(4))\n",
    "print(cube(2))"
   ]
  },
  {
   "cell_type": "markdown",
   "id": "37a4c106-1d34-48d6-b17b-520977c62561",
   "metadata": {},
   "source": [
    "4. What is the purpose of the return statement in a Python function?"
   ]
  },
  {
   "cell_type": "markdown",
   "id": "8c9df300-6a08-499e-a617-ab3bccffc1f9",
   "metadata": {},
   "source": [
    "It ends the function execution and sends a result back to the caller."
   ]
  },
  {
   "cell_type": "code",
   "execution_count": null,
   "id": "8f8cf0af-246a-45b1-ada4-5b3f16d82260",
   "metadata": {},
   "outputs": [],
   "source": [
    "def multiply(a, b):\n",
    "    return a * b\n",
    "\n",
    "result = multiply(3, 5)\n",
    "print(result)  # Output: 15"
   ]
  },
  {
   "cell_type": "markdown",
   "id": "4b4b0810-762e-4b39-933f-3ee59363d6f7",
   "metadata": {},
   "source": [
    "5. What are iterators in Python and how do they differ from iterables?"
   ]
  },
  {
   "cell_type": "markdown",
   "id": "98a0446d-d26f-4c5a-82c4-12132d3a7e0b",
   "metadata": {},
   "source": [
    "Iterable: An object capable of returning its members one by one (e.g., lists, strings).\n",
    "\n",
    "Iterator: An object with a __next__() method that keeps track of the current state."
   ]
  },
  {
   "cell_type": "code",
   "execution_count": null,
   "id": "3a000e47-45fa-4b4c-83e2-4e017061071f",
   "metadata": {},
   "outputs": [],
   "source": [
    "nums = [1, 2, 3]  # Iterable\n",
    "it = iter(nums)   # Iterator\n",
    "\n",
    "print(next(it))  # Output: 1"
   ]
  },
  {
   "cell_type": "markdown",
   "id": "efd27ecf-bdd7-4064-b900-2501c1060f85",
   "metadata": {},
   "source": [
    "6. Explain the concept of generators in Python and how they are defined."
   ]
  },
  {
   "cell_type": "markdown",
   "id": "04db18e0-c6b3-4024-b0c3-b435d5487df9",
   "metadata": {},
   "source": [
    "A generator is a function that uses yield instead of return to produce a sequence of results lazily (one at a time)."
   ]
  },
  {
   "cell_type": "code",
   "execution_count": null,
   "id": "ade7a32a-fde4-4988-ab0c-b349469b7bfe",
   "metadata": {},
   "outputs": [],
   "source": [
    "def count_up_to(n):\n",
    "    count = 1\n",
    "    while count <= n:\n",
    "        yield count\n",
    "        count += 1\n",
    "\n",
    "for num in count_up_to(3):\n",
    "    print(num)"
   ]
  },
  {
   "cell_type": "markdown",
   "id": "17c9aa70-ba02-49b5-9818-32dd72b46b90",
   "metadata": {},
   "source": [
    "7. What are the advantages of using generators over regular functions?"
   ]
  },
  {
   "cell_type": "markdown",
   "id": "d18d530a-dd99-4f27-9191-4e3645e4e025",
   "metadata": {},
   "source": [
    "Memory efficient: They yield items one at a time instead of returning the entire list.\n",
    "\n",
    "Faster performance in cases of large data.\n",
    "\n",
    "Lazy evaluation: Compute values on the fly."
   ]
  },
  {
   "cell_type": "code",
   "execution_count": null,
   "id": "755b9dc3-894e-44b1-9206-6dac40c31a47",
   "metadata": {},
   "outputs": [],
   "source": [
    "def gen_numbers():\n",
    "    for i in range(1000000):\n",
    "        yield i"
   ]
  },
  {
   "cell_type": "markdown",
   "id": "5d91d646-64a8-4a5d-8873-4b1fcd190d20",
   "metadata": {},
   "source": [
    "8. What is a lambda function in Python and when is it typically used?"
   ]
  },
  {
   "cell_type": "markdown",
   "id": "72264111-6aec-47e3-91e8-9e39c1594cf3",
   "metadata": {},
   "source": [
    "An anonymous function defined with the lambda keyword.\n",
    "\n",
    "Used for short, simple functions, often with map(), filter()"
   ]
  },
  {
   "cell_type": "code",
   "execution_count": null,
   "id": "f5876fc0-3416-44a1-8887-cd821740cf42",
   "metadata": {},
   "outputs": [],
   "source": [
    "square = lambda x: x ** 2\n",
    "print(square(5))  # Output: 25"
   ]
  },
  {
   "cell_type": "markdown",
   "id": "8fe9cde5-67e4-483f-80c5-edf8c5de57ad",
   "metadata": {},
   "source": [
    "9. Explain the purpose and usage of the map() function in Python."
   ]
  },
  {
   "cell_type": "markdown",
   "id": "d88dddd9-5192-4823-9110-0488361b385b",
   "metadata": {},
   "source": [
    "Applies a given function to each item of an iterable and returns a map object."
   ]
  },
  {
   "cell_type": "code",
   "execution_count": null,
   "id": "06887db5-a6b6-41cc-bdfe-0cd5d0fa2e79",
   "metadata": {},
   "outputs": [],
   "source": [
    "nums = [1, 2, 3]\n",
    "squared = list(map(lambda x: x ** 2, nums))\n",
    "print(squared)  # Output: [1, 4, 9]"
   ]
  },
  {
   "cell_type": "markdown",
   "id": "7ef255ba-2779-4095-9fd5-680b06a03f99",
   "metadata": {},
   "source": [
    "10. What is the difference between map(), reduce(), and filter() functions in Python?"
   ]
  },
  {
   "cell_type": "markdown",
   "id": "620f9509-ee18-4bc3-80e2-1d69220a3312",
   "metadata": {},
   "source": [
    "map()\t    Applies function to all items, Transformed iterable\n",
    "\n",
    "filter()\tFilters items that meet condition, Filtered iterable\n",
    "\n",
    "reduce()\tApplies function cumulatively, Single value"
   ]
  },
  {
   "cell_type": "code",
   "execution_count": null,
   "id": "9a3cf77d-7cb2-466b-8f26-779556107f5e",
   "metadata": {},
   "outputs": [],
   "source": [
    "from functools import reduce\n",
    "\n",
    "nums = [1, 2, 3, 4]\n",
    "\n",
    "# map\n",
    "mapped = list(map(lambda x: x*2, nums))  # [2, 4, 6, 8]\n",
    "\n",
    "# filter\n",
    "filtered = list(filter(lambda x: x % 2 == 0, nums))  # [2, 4]\n",
    "\n",
    "# reduce\n",
    "reduced = reduce(lambda x, y: x + y, nums)  # 10\n",
    "\n",
    "print(mapped, filtered, reduced)"
   ]
  },
  {
   "cell_type": "markdown",
   "id": "5b479c01-409d-4743-86ca-51ef811a09b0",
   "metadata": {},
   "source": [
    "11. Using pen & Paper write the internal mechanism for sum operation using  reduce function on this given\n",
    "list:[47,11,42,13]; "
   ]
  },
  {
   "cell_type": "code",
   "execution_count": 32,
   "id": "22494ac0-ef43-421a-a4be-c8b73c2e0fe5",
   "metadata": {},
   "outputs": [
    {
     "name": "stdout",
     "output_type": "stream",
     "text": [
      "113\n"
     ]
    }
   ],
   "source": [
    "from functools import reduce\n",
    "\n",
    "lst = [47, 11, 42, 13]\n",
    "result = reduce(lambda x, y: x + y, lst)\n",
    "print(result)"
   ]
  },
  {
   "cell_type": "markdown",
   "id": "779a897f-cc70-4117-803f-8a7ceb092afa",
   "metadata": {},
   "source": [
    "Practical Questions"
   ]
  },
  {
   "cell_type": "markdown",
   "id": "edf9274b-82c1-4368-b43b-7e8863e5ccee",
   "metadata": {},
   "source": [
    "Write a Python function that takes a list of numbers as input and returns the sum of all even numbers in\n",
    "the list."
   ]
  },
  {
   "cell_type": "code",
   "execution_count": 3,
   "id": "f179ec45-82a1-4960-aaca-91b9100e6a5a",
   "metadata": {},
   "outputs": [
    {
     "name": "stdout",
     "output_type": "stream",
     "text": [
      "30\n"
     ]
    }
   ],
   "source": [
    "def sum_even(list1):\n",
    "    sum = 0\n",
    "    for i in list1:\n",
    "        if i%2 == 0:\n",
    "            sum += i\n",
    "    return sum\n",
    "\n",
    "list1 = [1,2,3,4,5,6,7,8,9,10]\n",
    "print(sum_even(list1))"
   ]
  },
  {
   "cell_type": "markdown",
   "id": "9d76426c-1497-4fd5-be63-b4fcbd309b59",
   "metadata": {},
   "source": [
    "Create a Python function that accepts a string and returns the reverse of that string."
   ]
  },
  {
   "cell_type": "code",
   "execution_count": 10,
   "id": "271ef5aa-0d79-41cb-98d2-439c0796455a",
   "metadata": {},
   "outputs": [
    {
     "name": "stdout",
     "output_type": "stream",
     "text": [
      "htramaS\n"
     ]
    }
   ],
   "source": [
    "def str_rev(string):\n",
    "    if type(string) == str:\n",
    "        rev_str = string[::-1]\n",
    "    else:\n",
    "        print(\"Write a String characters\")\n",
    "    return rev_str\n",
    "\n",
    "str1 = \"Samarth\"\n",
    "\n",
    "print(str_rev(str1))    "
   ]
  },
  {
   "cell_type": "markdown",
   "id": "e4dad0bb-08bb-40c8-a6be-67b41604c212",
   "metadata": {},
   "source": [
    " Implement a Python function that takes a list of integers and returns a new list containing the squares of\n",
    "each number."
   ]
  },
  {
   "cell_type": "code",
   "execution_count": 20,
   "id": "f64d9197-d624-4c06-9aa7-06f017e24f95",
   "metadata": {},
   "outputs": [
    {
     "name": "stdout",
     "output_type": "stream",
     "text": [
      "[1, 4, 9, 16, 25]\n"
     ]
    }
   ],
   "source": [
    "list2 = [1,2,3,4,5]\n",
    "\n",
    "def sqr(list_of_integer):\n",
    "    new_list = []\n",
    "    for i in list_of_integer:\n",
    "        i = i**2\n",
    "        new_list.append(i)\n",
    "    return new_list\n",
    "\n",
    "print(sqr(list2))  "
   ]
  },
  {
   "cell_type": "markdown",
   "id": "59433593-797c-48be-9743-dbbe0c92c868",
   "metadata": {},
   "source": [
    "Write a Python function that checks if a given number is prime or not from 1 to 200."
   ]
  },
  {
   "cell_type": "code",
   "execution_count": 45,
   "id": "9c59c56a-5ae4-47c9-8be3-2cf611fc0949",
   "metadata": {},
   "outputs": [
    {
     "name": "stdout",
     "output_type": "stream",
     "text": [
      "2 is a prime number\n"
     ]
    }
   ],
   "source": [
    "def prime_number(num):\n",
    "    if num <= 1:\n",
    "        return f\"{num} is not a prime number\"\n",
    "    for i in range(2, num):\n",
    "        if num % i == 0:\n",
    "            return f\"{num} is not a prime number\"\n",
    "    return f\"{num} is a prime number\"\n",
    "\n",
    "print(prime_number(2)) "
   ]
  },
  {
   "cell_type": "markdown",
   "id": "efb099e3-b82b-4bf1-80fb-540c1dd29290",
   "metadata": {},
   "source": [
    " Create an iterator class in Python that generates the Fibonacci sequence up to a specified number of\n",
    "terms."
   ]
  },
  {
   "cell_type": "code",
   "execution_count": 62,
   "id": "8f6ff197-da98-4905-bb60-6ad59b88f84c",
   "metadata": {},
   "outputs": [
    {
     "data": {
      "text/plain": [
       "0"
      ]
     },
     "execution_count": 62,
     "metadata": {},
     "output_type": "execute_result"
    }
   ],
   "source": [
    "def fib(num):\n",
    "    a = 0\n",
    "    b = 1\n",
    "    for i in range(num):\n",
    "        yield a\n",
    "        a, b = b, a + b\n",
    "\n",
    "f = fib(5)\n",
    "next(f)"
   ]
  },
  {
   "cell_type": "code",
   "execution_count": 50,
   "id": "de816473-f1db-42b6-992b-33698fbf277d",
   "metadata": {},
   "outputs": [
    {
     "data": {
      "text/plain": [
       "1"
      ]
     },
     "execution_count": 50,
     "metadata": {},
     "output_type": "execute_result"
    }
   ],
   "source": [
    "next(f)"
   ]
  },
  {
   "cell_type": "code",
   "execution_count": 52,
   "id": "7b97e71d-342c-47c8-bc16-05aebe219891",
   "metadata": {},
   "outputs": [
    {
     "data": {
      "text/plain": [
       "1"
      ]
     },
     "execution_count": 52,
     "metadata": {},
     "output_type": "execute_result"
    }
   ],
   "source": [
    "next(f)"
   ]
  },
  {
   "cell_type": "code",
   "execution_count": 54,
   "id": "10c812ec-16df-4de6-9588-56b625dc7f36",
   "metadata": {},
   "outputs": [
    {
     "data": {
      "text/plain": [
       "2"
      ]
     },
     "execution_count": 54,
     "metadata": {},
     "output_type": "execute_result"
    }
   ],
   "source": [
    "next(f)"
   ]
  },
  {
   "cell_type": "markdown",
   "id": "aaccdff7-312a-4309-86fa-0df2ab36f4a7",
   "metadata": {},
   "source": [
    " Write a generator function in Python that yields the powers of 2 up to a given exponent."
   ]
  },
  {
   "cell_type": "code",
   "execution_count": 73,
   "id": "0a45a106-6950-4c85-9e08-ba1993b65aa8",
   "metadata": {},
   "outputs": [
    {
     "name": "stdout",
     "output_type": "stream",
     "text": [
      "1\n",
      "2\n",
      "4\n",
      "8\n",
      "16\n",
      "32\n"
     ]
    }
   ],
   "source": [
    "def powers_of_two(max_exponent):\n",
    "    for i in range(max_exponent + 1):\n",
    "        yield 2 ** i\n",
    "\n",
    "for num in powers_of_two(5):\n",
    "    print(num)"
   ]
  },
  {
   "cell_type": "markdown",
   "id": "bd7b7d94-6ff9-41cf-b09c-66808cd0abf5",
   "metadata": {},
   "source": [
    "Implement a generator function that reads a file line by line and yields each line as a string."
   ]
  },
  {
   "cell_type": "code",
   "execution_count": 80,
   "id": "feb98cb0-ae76-48b5-9a7e-78ab580d62f6",
   "metadata": {},
   "outputs": [
    {
     "name": "stdout",
     "output_type": "stream",
     "text": [
      "This is the first line.\n",
      "Here is the second line.\n",
      "Python generators are powerful.\n",
      "Reading files line by line is efficient.\n",
      "This is the last line.\n"
     ]
    }
   ],
   "source": [
    "def read_file_lines(file_path):\n",
    "    with open(file_path, 'r') as file:\n",
    "        for line in file:\n",
    "            yield line.rstrip('\\n')\n",
    "\n",
    "for line in read_file_lines(r'C:\\Users\\Samresh\\Downloads\\example.txt'):\n",
    "    print(line)"
   ]
  },
  {
   "cell_type": "markdown",
   "id": "f60ecb27-eef4-4bbc-98f9-a237cd10beb4",
   "metadata": {},
   "source": [
    " Use a lambda function in Python to sort a list of tuples based on the second element of each tuple."
   ]
  },
  {
   "cell_type": "code",
   "execution_count": 89,
   "id": "cfc88196-9bb5-4214-8b91-e1eb357bb6dc",
   "metadata": {},
   "outputs": [
    {
     "name": "stdout",
     "output_type": "stream",
     "text": [
      "[(2, 1), (3, 2), (1, 5), (4, 8)]\n"
     ]
    }
   ],
   "source": [
    "data = [(1, 5), (3, 2), (4, 8), (2, 1)]\n",
    "\n",
    "sorted_data = sorted(data, key=lambda x: x[1])\n",
    "\n",
    "print(sorted_data)"
   ]
  },
  {
   "cell_type": "markdown",
   "id": "175f3e85-d3b7-4fd7-b428-a2be055df42e",
   "metadata": {},
   "source": [
    "Write a Python program that uses `map()` to convert a list of temperatures from Celsius to Fahrenheit."
   ]
  },
  {
   "cell_type": "code",
   "execution_count": 92,
   "id": "cf2caee5-6683-41c4-9343-5d9ab06c5314",
   "metadata": {},
   "outputs": [
    {
     "name": "stdout",
     "output_type": "stream",
     "text": [
      "[33.8, 35.6, 37.4, 39.2, 41.0]\n"
     ]
    }
   ],
   "source": [
    "temp_list = [1,2,3,4,5]\n",
    "\n",
    "print(list(map(lambda x: (x * 9/5) + 32, temp_list)))"
   ]
  },
  {
   "cell_type": "markdown",
   "id": "20662eef-f7c5-4f52-ae2a-227b01ecd4c9",
   "metadata": {},
   "source": [
    " Create a Python program that uses `filter()` to remove all the vowels from a given string."
   ]
  },
  {
   "cell_type": "code",
   "execution_count": 105,
   "id": "1fdf4a9f-a8d4-4817-b614-6e55b7d0af42",
   "metadata": {},
   "outputs": [
    {
     "name": "stdout",
     "output_type": "stream",
     "text": [
      "Smrth\n"
     ]
    }
   ],
   "source": [
    "str1 = \"Samarth\"\n",
    "remove_vowels = lambda s: ''.join(filter(lambda char: char not in 'aeiouAEIOU', s))\n",
    "print(remove_vowels(str1))"
   ]
  },
  {
   "cell_type": "markdown",
   "id": "3155aeaf-429c-4c90-a753-265ed0e6f5e8",
   "metadata": {},
   "source": [
    "Write a Python program, which returns a list with 2-tuples. Each tuple consists of the order number and the\n",
    "product of the price per item and the quantity. The product should be increased by 10,- € if the value of the\n",
    "order is smaller than 100,00 €"
   ]
  },
  {
   "cell_type": "code",
   "execution_count": null,
   "id": "609b2368-cbd7-4333-89f0-b1d3901779aa",
   "metadata": {},
   "outputs": [],
   "source": [
    "result = list(map(lambda order: (\n",
    "    order[0],\n",
    "    order[2] * order[3] + (10 if order[2] * order[3] < 100 else 0)\n",
    "), orders))\n",
    "\n",
    "print(result)"
   ]
  }
 ],
 "metadata": {
  "kernelspec": {
   "display_name": "Python [conda env:base] *",
   "language": "python",
   "name": "conda-base-py"
  },
  "language_info": {
   "codemirror_mode": {
    "name": "ipython",
    "version": 3
   },
   "file_extension": ".py",
   "mimetype": "text/x-python",
   "name": "python",
   "nbconvert_exporter": "python",
   "pygments_lexer": "ipython3",
   "version": "3.12.7"
  }
 },
 "nbformat": 4,
 "nbformat_minor": 5
}
