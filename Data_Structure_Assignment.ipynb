{
 "cells": [
  {
   "cell_type": "markdown",
   "id": "a6a11078-a1c9-4f7b-bde5-fcee0c75ea93",
   "metadata": {},
   "source": [
    "Data Types and Structures Questions"
   ]
  },
  {
   "cell_type": "markdown",
   "id": "c21dd431-672c-4198-8869-651bb9701ca4",
   "metadata": {},
   "source": [
    "1. What are data structures, and why are they important?\n",
    "   \n",
    "Ans: Data structures store and organize data efficiently so it can be accessed and modified quickly."
   ]
  },
  {
   "cell_type": "markdown",
   "id": "18c7642d-f5cb-4171-a416-b07170771d4a",
   "metadata": {},
   "source": [
    "2.  Explain the difference between mutable and immutable data types with examples\n",
    "   \n",
    "Ans: Mutable types (like lists) can be changed. Immutable types (like strings, tuples) cannot."
   ]
  },
  {
   "cell_type": "markdown",
   "id": "2a03ee0a-e157-4c0f-a907-8c07255baeda",
   "metadata": {},
   "source": [
    "3.  Explain the difference between mutable and immutable data types with examples\n",
    "   \n",
    "Ans: Lists are mutable and use [], while tuples are immutable and use ()."
   ]
  },
  {
   "cell_type": "markdown",
   "id": "ee514f7e-58ca-4967-a03d-bf37222be2ff",
   "metadata": {},
   "source": [
    "4. Describe how dictionaries store data\n",
    "   \n",
    "Ans: Dictionaries store data as key-value pairs."
   ]
  },
  {
   "cell_type": "markdown",
   "id": "696d576e-8b45-4871-9581-9a5db9bfd418",
   "metadata": {},
   "source": [
    "5. Why might you use a set instead of a list in Python\n",
    "   \n",
    "Ans: Sets remove duplicates and offer faster lookups."
   ]
  },
  {
   "cell_type": "markdown",
   "id": "a62e30a7-f830-46f1-8a50-c4f994796163",
   "metadata": {},
   "source": [
    "6. What is a string in Python, and how is it different from a list\n",
    "   \n",
    "Ans: A string is a sequence of characters (immutable), while a list can hold any data types and is mutable."
   ]
  },
  {
   "cell_type": "markdown",
   "id": "fb926e18-a908-47c1-a2ad-e1fa49999458",
   "metadata": {},
   "source": [
    "7.  How do tuples ensure data integrity in Python\n",
    "   \n",
    "Ans: Tuples can't be changed, so stored data stays safe."
   ]
  },
  {
   "cell_type": "markdown",
   "id": "b5c34634-494e-49e7-a357-faa836aa376e",
   "metadata": {},
   "source": [
    "8. What is a hash table, and how does it relate to dictionaries in Python\n",
    "\n",
    "\n",
    "Ans: A hash table maps keys to values. Python dictionaries use hash tables internally."
   ]
  },
  {
   "cell_type": "markdown",
   "id": "7b44265e-de87-4261-979b-461877aae43d",
   "metadata": {},
   "source": [
    "9.  Can lists contain different data types in Python\n",
    "    \n",
    "Ans: Yes, lists can hold different types of data."
   ]
  },
  {
   "cell_type": "markdown",
   "id": "9ec80e29-5f59-45d6-b8fc-f57d554d5b83",
   "metadata": {},
   "source": [
    "10. Explain why strings are immutable in Python\n",
    "    \n",
    "Ans: It saves memory and makes strings safe for hashing."
   ]
  },
  {
   "cell_type": "markdown",
   "id": "1c8c8174-2ab5-4200-8a62-cf2ad66c81f6",
   "metadata": {},
   "source": [
    "11. What advantages do dictionaries offer over lists for certain tasks\n",
    "    \n",
    "Ans: Faster lookups using keys, better for key-value data."
   ]
  },
  {
   "cell_type": "markdown",
   "id": "9e571faf-c046-4385-b360-e9ecb3d63025",
   "metadata": {},
   "source": [
    "12.  Describe a scenario where using a tuple would be preferable over a list\n",
    "    \n",
    "Ans: When you need fixed data, like coordinates or days of the week."
   ]
  },
  {
   "cell_type": "markdown",
   "id": "d2c280c8-d2a8-449a-a69d-723984d168ae",
   "metadata": {},
   "source": [
    "13.  How do sets handle duplicate values in Python\n",
    "    \n",
    "Ans: Sets automatically remove duplicates."
   ]
  },
  {
   "cell_type": "markdown",
   "id": "34a91f8a-d36e-41c0-b7b5-5cc648d2678e",
   "metadata": {},
   "source": [
    "14.  How does the “in” keyword work differently for lists and dictionaries\n",
    "    \n",
    "Ans: In lists, it checks values; in dictionaries, it checks keys."
   ]
  },
  {
   "cell_type": "markdown",
   "id": "5207d9de-a946-457a-98c3-99cad3c333c2",
   "metadata": {},
   "source": [
    "15. Can you modify the elements of a tuple? Explain why or why not\n",
    "    \n",
    "Ans: No, tuples are immutable."
   ]
  },
  {
   "cell_type": "markdown",
   "id": "304f198d-2e27-4726-aca3-10b3cddf30b9",
   "metadata": {},
   "source": [
    "16. What is a nested dictionary, and give an example of its use case\n",
    "    \n",
    "Ans: A dictionary inside another. Used for structured data, like storing student info."
   ]
  },
  {
   "cell_type": "markdown",
   "id": "1022d34e-d691-4c53-9dc7-4817d775ffe2",
   "metadata": {},
   "source": [
    "17. Describe the time complexity of accessing elements in a dictionary\n",
    "    \n",
    "Ans: On average, O(1) — constant time."
   ]
  },
  {
   "cell_type": "markdown",
   "id": "f1764257-7d4e-4c4a-b2fe-e7a0c026e3ff",
   "metadata": {},
   "source": [
    "18. In what situations are lists preferred over dictionaries\n",
    "    \n",
    "Ans: When order matters or no key-value pairs are needed."
   ]
  },
  {
   "cell_type": "markdown",
   "id": "8ce67cca-0dc3-4ace-8b82-33983241c626",
   "metadata": {},
   "source": [
    "19. Why are dictionaries considered unordered, and how does that affect data retrieval\n",
    "    \n",
    "Ans: Keys don't follow insertion order. So, no guaranteed order in retrieval."
   ]
  },
  {
   "cell_type": "markdown",
   "id": "d761c435-0c65-41bd-9fba-f3504d5b20e4",
   "metadata": {},
   "source": [
    "20. Explain the difference between a list and a dictionary in terms of data retrieval.\n",
    "    \n",
    "Ans: Lists use index positions; dictionaries use keys."
   ]
  },
  {
   "cell_type": "code",
   "execution_count": null,
   "id": "25b0ddce-4872-4c14-b044-df0c7303af68",
   "metadata": {},
   "outputs": [],
   "source": []
  },
  {
   "cell_type": "markdown",
   "id": "212a448e-ab8f-4303-855a-ab610cae83a6",
   "metadata": {},
   "source": [
    "Practical Questions"
   ]
  },
  {
   "cell_type": "markdown",
   "id": "cd0b9c3c-f5c7-460f-971e-1a9ab03541e0",
   "metadata": {},
   "source": [
    "1. Write a code to create a string with your name and print it."
   ]
  },
  {
   "cell_type": "code",
   "execution_count": 3,
   "id": "afdad416-b1fb-4d0b-be1a-9db9f4b518a5",
   "metadata": {},
   "outputs": [
    {
     "name": "stdout",
     "output_type": "stream",
     "text": [
      "Samarth\n"
     ]
    }
   ],
   "source": [
    "name = \"Samarth\"\n",
    "print(name)"
   ]
  },
  {
   "cell_type": "markdown",
   "id": "e4105812-9422-4650-aae4-1c309a372382",
   "metadata": {},
   "source": [
    "2. Write a code to find the length of the string \"Hello World\"."
   ]
  },
  {
   "cell_type": "code",
   "execution_count": 11,
   "id": "8f271f60-eea8-4e2a-9e67-d6d41af26cd9",
   "metadata": {},
   "outputs": [
    {
     "data": {
      "text/plain": [
       "11"
      ]
     },
     "execution_count": 11,
     "metadata": {},
     "output_type": "execute_result"
    }
   ],
   "source": [
    "len(\"Hello World\")"
   ]
  },
  {
   "cell_type": "markdown",
   "id": "1e5f9928-caf2-426b-b714-0601fe954db4",
   "metadata": {},
   "source": [
    "3. Write a code to slice the first 3 characters from the string \"Python Programming\"."
   ]
  },
  {
   "cell_type": "code",
   "execution_count": 18,
   "id": "3d230651-efa5-4f36-b847-ea9e4821b237",
   "metadata": {},
   "outputs": [
    {
     "name": "stdout",
     "output_type": "stream",
     "text": [
      "Pyt\n"
     ]
    }
   ],
   "source": [
    "a = \"Python Programming\"\n",
    "print(a[0:3])"
   ]
  },
  {
   "cell_type": "markdown",
   "id": "a002acc5-6b5b-4bc9-8d44-a77efd312cd4",
   "metadata": {},
   "source": [
    "4. Write a code to convert the string \"hello\" to uppercase."
   ]
  },
  {
   "cell_type": "code",
   "execution_count": 21,
   "id": "13a51c4b-4ac3-4791-a511-cd64c69aeeb9",
   "metadata": {},
   "outputs": [
    {
     "data": {
      "text/plain": [
       "'HELLO'"
      ]
     },
     "execution_count": 21,
     "metadata": {},
     "output_type": "execute_result"
    }
   ],
   "source": [
    "\"hello\".upper()"
   ]
  },
  {
   "cell_type": "markdown",
   "id": "ceb372f5-18b8-4c11-a354-ed2fd29da759",
   "metadata": {},
   "source": [
    "5. Write a code to replace the word \"apple\" with \"orange\" in the string \"I like apple\"."
   ]
  },
  {
   "cell_type": "code",
   "execution_count": 28,
   "id": "c47997d8-2f1d-4c8d-abf3-512aff641a0b",
   "metadata": {},
   "outputs": [
    {
     "name": "stdout",
     "output_type": "stream",
     "text": [
      "I like orange\n"
     ]
    }
   ],
   "source": [
    "b = \"I like apple\"\n",
    "new_txt = b.replace(\"apple\", \"orange\")\n",
    "print(new_txt)"
   ]
  },
  {
   "cell_type": "markdown",
   "id": "dc884e12-4528-4b29-85d4-964620d132c9",
   "metadata": {},
   "source": [
    "6. Write a code to create a list with numbers 1 to 5 and print it."
   ]
  },
  {
   "cell_type": "code",
   "execution_count": 32,
   "id": "c20a38a9-d839-49f9-bf29-5497ceb24516",
   "metadata": {},
   "outputs": [
    {
     "name": "stdout",
     "output_type": "stream",
     "text": [
      "[1, 2, 3, 4, 5]\n"
     ]
    }
   ],
   "source": [
    "list1 = [1,2,3,4,5]\n",
    "print(list1)"
   ]
  },
  {
   "cell_type": "markdown",
   "id": "a65791f9-4aad-4739-851d-be77d0471019",
   "metadata": {},
   "source": [
    "7. Write a code to append the number 10 to the list [1, 2, 3, 4]."
   ]
  },
  {
   "cell_type": "code",
   "execution_count": 35,
   "id": "1ce4992e-70f3-4f48-be5b-32be9d5b0b1f",
   "metadata": {},
   "outputs": [
    {
     "name": "stdout",
     "output_type": "stream",
     "text": [
      "[1, 2, 3, 4, 10]\n"
     ]
    }
   ],
   "source": [
    "list2 = [1,2,3,4]\n",
    "list2.append(10)\n",
    "print(list2)"
   ]
  },
  {
   "cell_type": "markdown",
   "id": "d22b5b84-ee71-450b-b791-a89154d59e9c",
   "metadata": {},
   "source": [
    "8. Write a code to remove the number 3 from the list [1, 2, 3, 4, 5]."
   ]
  },
  {
   "cell_type": "code",
   "execution_count": 39,
   "id": "59e6f761-2f09-47e2-9c9a-cdf17dfa753d",
   "metadata": {},
   "outputs": [
    {
     "name": "stdout",
     "output_type": "stream",
     "text": [
      "[1, 2, 4, 5]\n"
     ]
    }
   ],
   "source": [
    "list1.remove(3)\n",
    "print(list1)"
   ]
  },
  {
   "cell_type": "markdown",
   "id": "467784a4-a369-495f-b865-5c6a0e561b5f",
   "metadata": {},
   "source": [
    "9. Write a code to access the second element in the list ['a', 'b', 'c', 'd']."
   ]
  },
  {
   "cell_type": "code",
   "execution_count": 42,
   "id": "9bbc4a36-13bd-49fa-9680-942d4177dd20",
   "metadata": {},
   "outputs": [
    {
     "name": "stdout",
     "output_type": "stream",
     "text": [
      "b\n"
     ]
    }
   ],
   "source": [
    "list3 = ['a', 'b', 'c', 'd']\n",
    "print(list3[1])"
   ]
  },
  {
   "cell_type": "markdown",
   "id": "e6e1b76a-b742-4262-b8a1-937957e832e6",
   "metadata": {},
   "source": [
    "10. Write a code to reverse the list [10, 20, 30, 40, 50]."
   ]
  },
  {
   "cell_type": "code",
   "execution_count": 51,
   "id": "e8d3a115-ea3c-47cf-8d26-6ddb5401a34a",
   "metadata": {},
   "outputs": [
    {
     "name": "stdout",
     "output_type": "stream",
     "text": [
      "[50, 40, 30, 20, 10]\n"
     ]
    }
   ],
   "source": [
    "list4 =  [10, 20, 30, 40, 50]\n",
    "print(list4[::-1])"
   ]
  },
  {
   "cell_type": "markdown",
   "id": "b597d88b-e78b-40f8-8bf4-c37e310fcb35",
   "metadata": {},
   "source": [
    "11. Write a code to create a tuple with the elements 100, 200, 300 and print it."
   ]
  },
  {
   "cell_type": "code",
   "execution_count": 56,
   "id": "99783f24-3a3c-410a-b2ef-904d918b9bff",
   "metadata": {},
   "outputs": [
    {
     "name": "stdout",
     "output_type": "stream",
     "text": [
      "(100, 200, 300)\n"
     ]
    }
   ],
   "source": [
    "tuple1 = (100, 200, 300)\n",
    "print(tuple1)"
   ]
  },
  {
   "cell_type": "markdown",
   "id": "41c4a2c7-0626-46f4-b099-31fba85cf846",
   "metadata": {},
   "source": [
    "12. Write a code to access the second-to-last element of the tuple ('red', 'green', 'blue', 'yellow')."
   ]
  },
  {
   "cell_type": "code",
   "execution_count": 59,
   "id": "732f08ce-55f5-4d1d-8aae-6d234a281c26",
   "metadata": {},
   "outputs": [
    {
     "name": "stdout",
     "output_type": "stream",
     "text": [
      "('green', 'blue', 'yellow')\n"
     ]
    }
   ],
   "source": [
    "tuple2 = ('red', 'green', 'blue', 'yellow')\n",
    "print(tuple2[1:])"
   ]
  },
  {
   "cell_type": "markdown",
   "id": "f3065c69-a98b-46f8-a069-d2bf17f60d6d",
   "metadata": {},
   "source": [
    "13. Write a code to find the minimum number in the tuple (10, 20, 5, 15)."
   ]
  },
  {
   "cell_type": "code",
   "execution_count": 64,
   "id": "41397cff-0f24-415d-b95a-3010e2609742",
   "metadata": {},
   "outputs": [
    {
     "name": "stdout",
     "output_type": "stream",
     "text": [
      "5\n"
     ]
    }
   ],
   "source": [
    "tuple3 = (10, 20, 5, 15)\n",
    "print(min(tuple3))"
   ]
  },
  {
   "cell_type": "markdown",
   "id": "b34e2d24-9f24-420c-a291-228a0d52e79a",
   "metadata": {},
   "source": [
    "14. Write a code to find the index of the element \"cat\" in the tuple ('dog', 'cat', 'rabbit')."
   ]
  },
  {
   "cell_type": "code",
   "execution_count": 67,
   "id": "bdd584eb-61e4-48ca-9746-ee71c555d1b7",
   "metadata": {},
   "outputs": [
    {
     "name": "stdout",
     "output_type": "stream",
     "text": [
      "1\n"
     ]
    }
   ],
   "source": [
    "tuple4 = ('dog', 'cat', 'rabbit')\n",
    "print(tuple4.index('cat'))"
   ]
  },
  {
   "cell_type": "markdown",
   "id": "33647d98-6184-41e4-b564-6f1f67768e4e",
   "metadata": {},
   "source": [
    "15. Write a code to create a tuple containing three different fruits and check if \"kiwi\" is in it."
   ]
  },
  {
   "cell_type": "code",
   "execution_count": 75,
   "id": "d551f93e-f277-4a55-9b71-976fca1dce19",
   "metadata": {},
   "outputs": [
    {
     "name": "stdout",
     "output_type": "stream",
     "text": [
      "kiwi is not available\n"
     ]
    }
   ],
   "source": [
    "tuple5 = ('apple', 'orange', 'banana')\n",
    "if \"kiwi\" in tuple5:\n",
    "    print(\"Kiwi is available\")\n",
    "else:\n",
    "    print(\"kiwi is not available\")"
   ]
  },
  {
   "cell_type": "markdown",
   "id": "35e97028-0626-4bcd-b9bc-d05963b327e2",
   "metadata": {},
   "source": [
    "16. Write a code to create a set with the elements 'a', 'b', 'c' and print it."
   ]
  },
  {
   "cell_type": "code",
   "execution_count": 80,
   "id": "c252c2a3-9e54-4bfc-973c-4b90980ef094",
   "metadata": {},
   "outputs": [
    {
     "name": "stdout",
     "output_type": "stream",
     "text": [
      "{'a', 'c', 'b'}\n"
     ]
    }
   ],
   "source": [
    "set1 = {\"a\", \"b\", \"c\"}\n",
    "print(set1)"
   ]
  },
  {
   "cell_type": "markdown",
   "id": "2e3a849a-4053-4d22-8720-bb7efe5924f4",
   "metadata": {},
   "source": [
    "17. Write a code to clear all elements from the set {1, 2, 3, 4, 5}."
   ]
  },
  {
   "cell_type": "code",
   "execution_count": 89,
   "id": "137cd196-9db8-4dc6-9898-8b84c97e82d7",
   "metadata": {},
   "outputs": [
    {
     "name": "stdout",
     "output_type": "stream",
     "text": [
      "set()\n"
     ]
    }
   ],
   "source": [
    "set2 = {1,2,3,4,5}\n",
    "set2.clear()\n",
    "print(set2)"
   ]
  },
  {
   "cell_type": "markdown",
   "id": "8da64569-3100-4dbe-a156-f65682576204",
   "metadata": {},
   "source": [
    "18. Write a code to remove the element 4 from the set {1, 2, 3, 4}."
   ]
  },
  {
   "cell_type": "code",
   "execution_count": 96,
   "id": "e9c7ec84-6c55-4c59-aac0-1d1fa00696c9",
   "metadata": {},
   "outputs": [
    {
     "name": "stdout",
     "output_type": "stream",
     "text": [
      "{1, 2, 3}\n"
     ]
    }
   ],
   "source": [
    "set3 = {1,2,3,4}\n",
    "set3.remove(4)\n",
    "print(set3)"
   ]
  },
  {
   "cell_type": "markdown",
   "id": "4c7a0052-8ee2-46c8-8383-f1c9fdde9023",
   "metadata": {},
   "source": [
    "19. Write a code to find the union of two sets {1, 2, 3} and {3, 4, 5}."
   ]
  },
  {
   "cell_type": "code",
   "execution_count": 99,
   "id": "c1aa12ab-8061-4f65-bc2e-2927e6cc886a",
   "metadata": {},
   "outputs": [
    {
     "name": "stdout",
     "output_type": "stream",
     "text": [
      "{1, 2, 3, 4, 5}\n"
     ]
    }
   ],
   "source": [
    "setA = {1,2,3}\n",
    "setB = {3,4,5}\n",
    "set_union = setA | setB\n",
    "print(set_union)"
   ]
  },
  {
   "cell_type": "markdown",
   "id": "22d4fa66-3dcd-4f55-a4da-96d4794a7730",
   "metadata": {},
   "source": [
    "20. Write a code to find the intersection of two sets {1, 2, 3} and {2, 3, 4}."
   ]
  },
  {
   "cell_type": "code",
   "execution_count": 102,
   "id": "9550388d-2b85-4d68-b787-ee85e17299b3",
   "metadata": {},
   "outputs": [
    {
     "name": "stdout",
     "output_type": "stream",
     "text": [
      "{2, 3}\n"
     ]
    }
   ],
   "source": [
    "setA = {1,2,3}\n",
    "setB = {2,3,4}\n",
    "set_inter = setA & setB\n",
    "print(set_inter)"
   ]
  },
  {
   "cell_type": "markdown",
   "id": "9bf17855-ff8d-452c-a11f-ddb39c05edca",
   "metadata": {},
   "source": [
    "21. Write a code to create a dictionary with the keys \"name\", \"age\", and \"city\", and print it."
   ]
  },
  {
   "cell_type": "code",
   "execution_count": 113,
   "id": "075e7a76-a059-4eb9-bc13-a97b17a7c7df",
   "metadata": {},
   "outputs": [
    {
     "name": "stdout",
     "output_type": "stream",
     "text": [
      "{'name': 'Samart', 'age': 35, 'city': 'Faridabad'}\n",
      "<class 'dict'>\n"
     ]
    }
   ],
   "source": [
    "dict1 = {\"name\": \"Samart\", \"age\": 35, \"city\": \"Faridabad\"}\n",
    "print(dict1)\n",
    "print(type(dict1))"
   ]
  },
  {
   "cell_type": "markdown",
   "id": "4cf4f894-0b9a-477c-b8b8-94ad28f7a25c",
   "metadata": {},
   "source": [
    "22. Write a code to add a new key-value pair \"country\": \"USA\" to the dictionary {'name': 'John', 'age': 25}."
   ]
  },
  {
   "cell_type": "code",
   "execution_count": 116,
   "id": "c182797c-0377-4ea0-b4d1-f6d00c072aed",
   "metadata": {},
   "outputs": [
    {
     "name": "stdout",
     "output_type": "stream",
     "text": [
      "{'name': 'John', 'age': 25, 'country': 'USA'}\n"
     ]
    }
   ],
   "source": [
    "dict2 = {\n",
    "    \"name\": \"John\",\n",
    "    \"age\": 25\n",
    "}\n",
    "dict2[\"country\"] = \"USA\"\n",
    "print(dict2)"
   ]
  },
  {
   "cell_type": "markdown",
   "id": "496a75d1-640b-4522-9f13-d32243aa6870",
   "metadata": {},
   "source": [
    "23. Write a code to access the value associated with the key \"name\" in the dictionary {'name': 'Alice', 'age': 30}."
   ]
  },
  {
   "cell_type": "code",
   "execution_count": 119,
   "id": "ed84a90d-f139-457f-a48f-883373dc0163",
   "metadata": {},
   "outputs": [
    {
     "name": "stdout",
     "output_type": "stream",
     "text": [
      "Alice\n"
     ]
    }
   ],
   "source": [
    "dict3 = {\n",
    "    \"name\": \"Alice\",\n",
    "    \"age\": 30    \n",
    "}\n",
    "print(dict3[\"name\"])"
   ]
  },
  {
   "cell_type": "markdown",
   "id": "7fbe52b4-8aa3-4957-9076-f6f67fee0601",
   "metadata": {},
   "source": [
    "24. Write a code to remove the key \"age\" from the dictionary {'name': 'Bob', 'age': 22, 'city': 'New York'}."
   ]
  },
  {
   "cell_type": "code",
   "execution_count": 124,
   "id": "3c1a81c2-9d17-4870-be6c-ae2a718b84ee",
   "metadata": {},
   "outputs": [
    {
     "name": "stdout",
     "output_type": "stream",
     "text": [
      "{'name': 'Bob', 'city': 'New York'}\n"
     ]
    }
   ],
   "source": [
    "dict4 = {'name': 'Bob', 'age': 22, 'city': 'New York'}\n",
    "del dict4[\"age\"]\n",
    "print(dict4)"
   ]
  },
  {
   "cell_type": "markdown",
   "id": "a972321a-c3a9-422d-8e19-6a9825cee83c",
   "metadata": {},
   "source": [
    "25. Write a code to check if the key \"city\" exists in the dictionary {'name': 'Alice', 'city': 'Paris'}."
   ]
  },
  {
   "cell_type": "code",
   "execution_count": 129,
   "id": "7094f1f1-d085-453a-ab14-3a6562d5574c",
   "metadata": {},
   "outputs": [
    {
     "name": "stdout",
     "output_type": "stream",
     "text": [
      "True\n"
     ]
    }
   ],
   "source": [
    "dict5 = {\n",
    "    \"name\": \"Alice\",\n",
    "    \"city\": \"Paris\"\n",
    "}\n",
    "print(\"city\" in dict5)"
   ]
  },
  {
   "cell_type": "markdown",
   "id": "a7a33717-87a3-4b67-a8dd-3056490c523f",
   "metadata": {},
   "source": [
    "26. Write a code to create a list, a tuple, and a dictionary, and print them all."
   ]
  },
  {
   "cell_type": "code",
   "execution_count": 132,
   "id": "614567f0-d8b1-4195-b46f-1a2f2de7e9fe",
   "metadata": {
    "scrolled": true
   },
   "outputs": [
    {
     "name": "stdout",
     "output_type": "stream",
     "text": [
      "[1, 2, 'Tinku', 4.6, (2+4j)]\n",
      "(1, 2, 'sam')\n",
      "{'name': 'Tinku', 'age': 35}\n"
     ]
    }
   ],
   "source": [
    "list1 = [1,2, \"Tinku\", 4.6, 2+4j]\n",
    "tuple1 = (1,2,\"sam\")\n",
    "dict1 = {\n",
    "    \"name\": \"Tinku\",\n",
    "    \"age\": 35\n",
    "}\n",
    "print(list1)\n",
    "print(tuple1)\n",
    "print(dict1)"
   ]
  },
  {
   "cell_type": "markdown",
   "id": "68398afc-e709-4d16-82cc-aa01bcf2c928",
   "metadata": {},
   "source": [
    "27. Write a code to create a list of 5 random numbers between 1 and 100, sort it in ascending order, and print the\n",
    "result.(replaced)"
   ]
  },
  {
   "cell_type": "code",
   "execution_count": 139,
   "id": "af5232f8-cfa5-47eb-92bb-28ef46f7909f",
   "metadata": {},
   "outputs": [
    {
     "name": "stdout",
     "output_type": "stream",
     "text": [
      "[5, 12, 22, 24, 31]\n"
     ]
    }
   ],
   "source": [
    "list2 = [12, 24, 22, 31, 5]\n",
    "print(sorted(list2))"
   ]
  },
  {
   "cell_type": "markdown",
   "id": "04a96299-f912-4b84-9684-34ca8d224e1f",
   "metadata": {},
   "source": [
    "28. Write a code to create a list with strings and print the element at the third index."
   ]
  },
  {
   "cell_type": "code",
   "execution_count": 146,
   "id": "de83bded-7b2e-46b6-b657-b4b46d50550a",
   "metadata": {},
   "outputs": [
    {
     "name": "stdout",
     "output_type": "stream",
     "text": [
      "['This', 'is', 'my', 'project']\n",
      "<class 'list'>\n",
      "my\n"
     ]
    }
   ],
   "source": [
    "str1 = \"This is my project\"\n",
    "list_new = str1.split(\" \")\n",
    "print(list_new)\n",
    "print(type(list_new))\n",
    "print(list_new[2])"
   ]
  },
  {
   "cell_type": "markdown",
   "id": "f606c912-6f4f-4465-a819-a4b6f6e302ef",
   "metadata": {},
   "source": [
    "29. Write a code to combine two dictionaries into one and print the result."
   ]
  },
  {
   "cell_type": "code",
   "execution_count": 151,
   "id": "4175b970-cb82-4b8b-aaa1-01595cb398ef",
   "metadata": {},
   "outputs": [
    {
     "name": "stdout",
     "output_type": "stream",
     "text": [
      "{'name': 'Alice', 'city': 'Paris', 'Sex': 'Male', 'age': 35}\n"
     ]
    }
   ],
   "source": [
    "dict1 = {\n",
    "    \"name\": \"Alice\",\n",
    "    \"city\": \"Paris\"\n",
    "}\n",
    "dict2 = {\n",
    "    \"Sex\": \"Male\",\n",
    "    \"age\": 35\n",
    "}\n",
    "dict1.update(dict2)\n",
    "print(dict1)"
   ]
  },
  {
   "cell_type": "markdown",
   "id": "256ca32d-a347-4adb-9e01-9ecfdad21516",
   "metadata": {},
   "source": [
    "30. Write a code to convert a list of strings into a set."
   ]
  },
  {
   "cell_type": "code",
   "execution_count": 156,
   "id": "8a4a32e9-95e9-462d-8e3c-e777cb8e1383",
   "metadata": {},
   "outputs": [
    {
     "name": "stdout",
     "output_type": "stream",
     "text": [
      "{'is', 'my', 'project', 'This'}\n",
      "<class 'set'>\n"
     ]
    }
   ],
   "source": [
    "list_str = ['This', 'is', 'my', 'project']\n",
    "set_new = set(list_str)\n",
    "print(set_new)\n",
    "print(type(set_new))"
   ]
  },
  {
   "cell_type": "markdown",
   "id": "ba4e884d-dde2-404c-adea-1314751c3e56",
   "metadata": {},
   "source": [
    "---------------------------------------END-------------------------------------"
   ]
  },
  {
   "cell_type": "code",
   "execution_count": null,
   "id": "8d52a056-aec7-4fa8-b9cc-6ecf98124eb0",
   "metadata": {},
   "outputs": [],
   "source": []
  }
 ],
 "metadata": {
  "kernelspec": {
   "display_name": "Python [conda env:base] *",
   "language": "python",
   "name": "conda-base-py"
  },
  "language_info": {
   "codemirror_mode": {
    "name": "ipython",
    "version": 3
   },
   "file_extension": ".py",
   "mimetype": "text/x-python",
   "name": "python",
   "nbconvert_exporter": "python",
   "pygments_lexer": "ipython3",
   "version": "3.12.7"
  }
 },
 "nbformat": 4,
 "nbformat_minor": 5
}
