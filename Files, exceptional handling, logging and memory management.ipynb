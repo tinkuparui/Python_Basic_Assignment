{
 "cells": [
  {
   "cell_type": "markdown",
   "id": "fc7a3cd9-80db-4a0a-becb-ee43e835b394",
   "metadata": {},
   "source": [
    "Files, exceptional handling, logging and\n",
    "memory management Questions"
   ]
  },
  {
   "cell_type": "markdown",
   "id": "5520f84e-6d9e-4c8a-93ed-8612fdf251d7",
   "metadata": {},
   "source": [
    "Q1. What is the difference between interpreted and compiled languages?"
   ]
  },
  {
   "cell_type": "markdown",
   "id": "afda3a97-43c0-44ba-a20a-35098ca3e482",
   "metadata": {},
   "source": [
    "Interpreted languages (like Python) execute code line by line using an interpreter.\n",
    "\n",
    "Compiled languages (like C++) are translated into machine code all at once before execution."
   ]
  },
  {
   "cell_type": "markdown",
   "id": "79a5bf16-bd6a-44e3-bd14-606a92d75435",
   "metadata": {},
   "source": [
    "Q2. What is exception handling in Python?"
   ]
  },
  {
   "cell_type": "markdown",
   "id": "bf77f96a-a51b-4902-8dc4-59c6c937c175",
   "metadata": {},
   "source": [
    "It’s a mechanism to handle runtime errors using try, except, else, and finally blocks to prevent crashes."
   ]
  },
  {
   "cell_type": "markdown",
   "id": "3e49fe0d-496b-4a58-8f45-8c62979a2745",
   "metadata": {},
   "source": [
    "Q3. What is the purpose of the finally block in exception handling?"
   ]
  },
  {
   "cell_type": "markdown",
   "id": "6a1c751a-900c-46db-9598-6ee2a895ba01",
   "metadata": {},
   "source": [
    "The finally block is used to execute code (like cleanup) regardless of whether an exception was raised or not."
   ]
  },
  {
   "cell_type": "markdown",
   "id": "4c26634b-472d-4808-9f6a-265e44d97cc7",
   "metadata": {},
   "source": [
    "Q4.  What is logging in Python?"
   ]
  },
  {
   "cell_type": "markdown",
   "id": "111606e8-0bd8-4206-a1ce-5a32cdac594c",
   "metadata": {},
   "source": [
    "Logging records messages about program execution. It's useful for debugging and monitoring software behavior over time."
   ]
  },
  {
   "cell_type": "markdown",
   "id": "69b4d619-87bf-445f-be88-9efa14c91c97",
   "metadata": {},
   "source": [
    "Q5. What is the significance of the __del__ method in Python?"
   ]
  },
  {
   "cell_type": "markdown",
   "id": "1c1b11bf-d34d-44d5-bf17-d392bb1fdf0e",
   "metadata": {},
   "source": [
    "__del__ is a destructor method called when an object is about to be destroyed. It’s used for cleanup but should be used cautiously."
   ]
  },
  {
   "cell_type": "markdown",
   "id": "5c3b8760-8c59-4645-9d5f-7e0ce920dace",
   "metadata": {},
   "source": [
    "Q6. What is the difference between import and from ... import in Python?"
   ]
  },
  {
   "cell_type": "markdown",
   "id": "45416bc0-c4a2-4117-8686-d144241b39c3",
   "metadata": {},
   "source": [
    "import module imports the entire module.\n",
    "\n",
    "from module import name imports specific parts of a module."
   ]
  },
  {
   "cell_type": "markdown",
   "id": "82c4459a-d8c1-4411-b2d7-77f8f7a61fa1",
   "metadata": {},
   "source": [
    "Q7. How can you handle multiple exceptions in Python?"
   ]
  },
  {
   "cell_type": "markdown",
   "id": "c398b1a0-69e1-44ae-b66f-5ac9b9a16ed9",
   "metadata": {},
   "source": [
    "You can handle them by:"
   ]
  },
  {
   "cell_type": "code",
   "execution_count": 17,
   "id": "60200b5f-4298-42fd-910f-a26194b02cea",
   "metadata": {},
   "outputs": [],
   "source": [
    "try:\n",
    "    ...\n",
    "except (TypeError, ValueError) as e:\n",
    "    ...\n"
   ]
  },
  {
   "cell_type": "markdown",
   "id": "3945a0e5-d3b5-427c-84e0-7712fe2a8f65",
   "metadata": {},
   "source": [
    "Q8. What is the purpose of the with statement when handling files in Python?"
   ]
  },
  {
   "cell_type": "markdown",
   "id": "b742e6b7-eb62-4213-bcad-4b29a08d6c9d",
   "metadata": {},
   "source": [
    "It simplifies file handling by automatically closing the file, even if an error occurs."
   ]
  },
  {
   "cell_type": "markdown",
   "id": "e0bab609-de74-4464-b0bc-59e9dd1375c9",
   "metadata": {},
   "source": [
    "Q9. What is the difference between multithreading and multiprocessing?"
   ]
  },
  {
   "cell_type": "markdown",
   "id": "9ed7e790-9b70-486f-a702-085d8807b591",
   "metadata": {},
   "source": [
    "Multithreading: Multiple threads share the same memory space. Useful for I/O-bound tasks.\n",
    "\n",
    "Multiprocessing: Runs separate processes with separate memory. Ideal for CPU-bound tasks."
   ]
  },
  {
   "cell_type": "markdown",
   "id": "63cb5c1f-016b-404e-8f78-23f1b56bde8a",
   "metadata": {},
   "source": [
    "Q10. What are the advantages of using logging in a program?"
   ]
  },
  {
   "cell_type": "markdown",
   "id": "6a2ac525-c9c6-46b2-af92-389b21afd875",
   "metadata": {},
   "source": [
    "Tracks events and errors\n",
    "\n",
    "Helps in debugging\n",
    "\n",
    "Provides persistence of runtime events\n",
    "\n",
    "Configurable output formats and levels"
   ]
  },
  {
   "cell_type": "markdown",
   "id": "49428f74-bcd0-4105-9572-046ca0b26959",
   "metadata": {},
   "source": [
    "Q11. What is memory management in Python?"
   ]
  },
  {
   "cell_type": "markdown",
   "id": "c98f3cea-f4ae-48be-b83d-1f7e1c0ed76a",
   "metadata": {},
   "source": [
    "It involves allocating and deallocating memory automatically, primarily through reference counting and garbage collection."
   ]
  },
  {
   "cell_type": "markdown",
   "id": "a0c2c366-67c6-4274-a04f-360fe859a5b6",
   "metadata": {},
   "source": [
    "Q12. What are the basic steps involved in exception handling in Python?"
   ]
  },
  {
   "cell_type": "markdown",
   "id": "286ae697-0082-43bd-be76-c9ff661df629",
   "metadata": {},
   "source": [
    "Try code block\n",
    "\n",
    "Catch errors using except\n",
    "\n",
    "Optionally use else for no-error scenario\n",
    "\n",
    "Use finally for cleanup"
   ]
  },
  {
   "cell_type": "markdown",
   "id": "82523c2d-1fd2-41d3-8d0a-fe911ecb98c9",
   "metadata": {},
   "source": [
    "Q13. Why is memory management important in Python?"
   ]
  },
  {
   "cell_type": "markdown",
   "id": "8ffef180-69b8-4788-8e4c-34f1c85378f4",
   "metadata": {},
   "source": [
    "Efficient memory use avoids crashes, improves performance, and helps in managing resources, especially in large applications."
   ]
  },
  {
   "cell_type": "markdown",
   "id": "2a56fee7-be2f-4f8a-924a-ba8ffe834e3b",
   "metadata": {},
   "source": [
    "Q14. What is the role of try and except in exception handling?"
   ]
  },
  {
   "cell_type": "markdown",
   "id": "f959eebb-cce9-4b24-b3cd-cc1d92a1eb63",
   "metadata": {},
   "source": [
    "try: Wraps risky code.\n",
    "\n",
    "except: Catches and handles specific exceptions if they occur."
   ]
  },
  {
   "cell_type": "markdown",
   "id": "4a083b4d-e799-478c-a5fc-3152cf51f693",
   "metadata": {},
   "source": [
    "Q15. How does Python's garbage collection system work?"
   ]
  },
  {
   "cell_type": "markdown",
   "id": "01ef2be8-1ec7-443a-acc7-ea6f3430b9b5",
   "metadata": {},
   "source": [
    "Python uses reference counting and a cyclic garbage collector to identify and clean up unreachable objects in memory."
   ]
  },
  {
   "cell_type": "markdown",
   "id": "61b07bbe-bf4d-4b76-97f0-988c1faf8f4b",
   "metadata": {},
   "source": [
    "Q16. What is the purpose of the else block in exception handling?"
   ]
  },
  {
   "cell_type": "markdown",
   "id": "8f393fb2-55f2-451c-8999-e875c3aa1e3a",
   "metadata": {},
   "source": [
    "It runs code only if no exception was raised in the try block."
   ]
  },
  {
   "cell_type": "markdown",
   "id": "fb5bfdf3-aba3-49d0-a704-01f66298ab80",
   "metadata": {},
   "source": [
    " Q17. What are the common logging levels in Python?"
   ]
  },
  {
   "cell_type": "markdown",
   "id": "87274bad-69aa-4967-8017-a6f7a62a31a5",
   "metadata": {},
   "source": [
    "DEBUG – Detailed info for debugging\n",
    "\n",
    "INFO – General info\n",
    "\n",
    "WARNING – Something unexpected\n",
    "\n",
    "ERROR – A serious problem\n",
    "\n",
    "CRITICAL – A severe error"
   ]
  },
  {
   "cell_type": "markdown",
   "id": "b152d592-52e0-42ae-9310-e321ce7294d7",
   "metadata": {},
   "source": [
    "Q18. What is the difference between os.fork() and multiprocessing in Python?"
   ]
  },
  {
   "cell_type": "markdown",
   "id": "8aa32d48-23b6-4005-bfe7-f5cdb7094ece",
   "metadata": {},
   "source": [
    "os.fork() (Unix only): Low-level process creation.\n",
    "\n",
    "multiprocessing: High-level API for process management, works across platforms."
   ]
  },
  {
   "cell_type": "markdown",
   "id": "13be6904-dc65-44d9-8ff0-da1d97eb435f",
   "metadata": {},
   "source": [
    "Q19. What is the importance of closing a file in Python?"
   ]
  },
  {
   "cell_type": "markdown",
   "id": "c42d06d6-47a6-45be-87a5-89243d08574a",
   "metadata": {},
   "source": [
    "To free system resources and ensure that all buffered data is written to disk."
   ]
  },
  {
   "cell_type": "markdown",
   "id": "9db75bbc-612f-4dda-aa2f-408c7c698737",
   "metadata": {},
   "source": [
    "Q20. What is the difference between file.read() and file.readline() in Python?"
   ]
  },
  {
   "cell_type": "markdown",
   "id": "e6fefcca-d7d7-482c-a12a-3d99c5cd58cb",
   "metadata": {},
   "source": [
    "file.read(): Reads the entire file.\n",
    "\n",
    "file.readline(): Reads one line at a time."
   ]
  },
  {
   "cell_type": "markdown",
   "id": "77fb7ee2-e029-44d1-b190-64c36abcb882",
   "metadata": {},
   "source": [
    "Q21. What is the logging module in Python used for?"
   ]
  },
  {
   "cell_type": "markdown",
   "id": "94cc86f1-1805-48dc-a8b7-f3333144fefe",
   "metadata": {},
   "source": [
    "It provides a standard way to log messages at different severity levels for diagnostics and monitoring."
   ]
  },
  {
   "cell_type": "markdown",
   "id": "956b462e-68c0-4c4d-b1e3-a1e3ee02bb52",
   "metadata": {},
   "source": [
    "Q22. What is the os module in Python used for in file handling?"
   ]
  },
  {
   "cell_type": "markdown",
   "id": "bc1730d4-87b9-491a-8101-161cb667e7f9",
   "metadata": {},
   "source": [
    "It allows interaction with the operating system: path operations, file removal, directory creation, etc."
   ]
  },
  {
   "cell_type": "markdown",
   "id": "d4e1a963-84ba-4f38-876b-670723c930f2",
   "metadata": {},
   "source": [
    "Q23. What are the challenges associated with memory management in Python?"
   ]
  },
  {
   "cell_type": "markdown",
   "id": "c9a6a232-da7b-4b3c-947c-becd5fdc75cd",
   "metadata": {},
   "source": [
    "Detecting circular references\n",
    "\n",
    "Memory leaks from long-lived references\n",
    "\n",
    "Managing large data structures efficiently"
   ]
  },
  {
   "cell_type": "markdown",
   "id": "e2bb1cc6-adee-4a3c-9adf-243ea961f61b",
   "metadata": {},
   "source": [
    "Q24. How do you raise an exception manually in Python?"
   ]
  },
  {
   "cell_type": "markdown",
   "id": "8587cb67-f32e-4d5d-be83-91827440f5b0",
   "metadata": {},
   "source": [
    "Using the raise statement:\n",
    "\n",
    "raise ValueError(\"Invalid input\")"
   ]
  },
  {
   "cell_type": "markdown",
   "id": "d9914ad0-db56-4e74-bed3-12d5bdbf30d3",
   "metadata": {},
   "source": [
    "Q25. Why is it important to use multithreading in certain applications?"
   ]
  },
  {
   "cell_type": "markdown",
   "id": "54107f4a-557c-415d-a7e0-522512992c05",
   "metadata": {},
   "source": [
    "Multithreading improves responsiveness and performance in I/O-bound tasks like file operations, network requests, and UI interactions."
   ]
  },
  {
   "cell_type": "code",
   "execution_count": null,
   "id": "4563a66a-1449-47bc-86e6-1ffbf5de4a49",
   "metadata": {},
   "outputs": [],
   "source": []
  },
  {
   "cell_type": "markdown",
   "id": "470327a4-197d-4fb9-a207-552dde528dc8",
   "metadata": {},
   "source": [
    "Practical Questions"
   ]
  },
  {
   "cell_type": "markdown",
   "id": "a25b501e-eee1-4e7f-aee6-7ecd023cf7e9",
   "metadata": {},
   "source": [
    " How can you open a file for writing in Python and write a string to it?"
   ]
  },
  {
   "cell_type": "code",
   "execution_count": 62,
   "id": "b70f7cab-6ca1-48e1-9b82-b33899ae6ffe",
   "metadata": {},
   "outputs": [],
   "source": [
    "with open(\"example.txt\", \"w\") as file:\n",
    "    file.write(\"Hello, this is a test string.\")\n"
   ]
  },
  {
   "cell_type": "markdown",
   "id": "9a3d048b-f5a5-4a88-bbaa-048f21b247ab",
   "metadata": {},
   "source": [
    "Q2. Write a Python program to read the contents of a file and print each line."
   ]
  },
  {
   "cell_type": "code",
   "execution_count": 65,
   "id": "63189cc7-10f2-4f99-a977-fb12bd3ce891",
   "metadata": {},
   "outputs": [
    {
     "name": "stdout",
     "output_type": "stream",
     "text": [
      "Hello, this is a test string.\n"
     ]
    }
   ],
   "source": [
    "with open(\"example.txt\", \"r\") as file:\n",
    "    for line in file:\n",
    "        print(line.strip())\n"
   ]
  },
  {
   "cell_type": "markdown",
   "id": "4784d558-67b6-47d5-99e4-99c652db0c9a",
   "metadata": {},
   "source": [
    "Q3. How would you handle a case where the file doesn't exist while trying to open it for reading?"
   ]
  },
  {
   "cell_type": "code",
   "execution_count": 68,
   "id": "2617fe6a-6324-4e6b-b92b-055783eacf2d",
   "metadata": {},
   "outputs": [
    {
     "name": "stdout",
     "output_type": "stream",
     "text": [
      "File not found!\n"
     ]
    }
   ],
   "source": [
    "try:\n",
    "    with open(\"missing.txt\", \"r\") as file:\n",
    "        print(file.read())\n",
    "except FileNotFoundError:\n",
    "    print(\"File not found!\")\n"
   ]
  },
  {
   "cell_type": "markdown",
   "id": "284d2581-f9f5-4aad-a491-2fe31bf613cf",
   "metadata": {},
   "source": [
    "Q4. Write a Python script that reads from one file and writes its content to another file."
   ]
  },
  {
   "cell_type": "code",
   "execution_count": 74,
   "id": "9484ae02-eb0e-44ef-914b-1b7c6e5291b3",
   "metadata": {},
   "outputs": [],
   "source": [
    "with open(\"source.txt\", \"r\") as src, open(\"destination.txt\", \"w\") as dest:\n",
    "    dest.write(src.read())\n"
   ]
  },
  {
   "cell_type": "markdown",
   "id": "7210e04f-52c0-49ff-8453-78d0c622ba21",
   "metadata": {},
   "source": [
    "Q5. How would you catch and handle division by zero error in Python?"
   ]
  },
  {
   "cell_type": "code",
   "execution_count": 77,
   "id": "16df3ebe-4c82-4fa0-95db-6a28707f4698",
   "metadata": {},
   "outputs": [
    {
     "name": "stdout",
     "output_type": "stream",
     "text": [
      "Cannot divide by zero.\n"
     ]
    }
   ],
   "source": [
    "try:\n",
    "    result = 10 / 0\n",
    "except ZeroDivisionError:\n",
    "    print(\"Cannot divide by zero.\")\n"
   ]
  },
  {
   "cell_type": "markdown",
   "id": "9e1ac6c6-d5d4-455b-9acb-3de4c20f4569",
   "metadata": {},
   "source": [
    "Q6. Write a Python program that logs an error message to a log file when a division by zero exception occurs."
   ]
  },
  {
   "cell_type": "code",
   "execution_count": 80,
   "id": "8599d0ac-5051-4a92-afc0-df363d4094c8",
   "metadata": {},
   "outputs": [],
   "source": [
    "import logging\n",
    "\n",
    "logging.basicConfig(filename=\"error.log\", level=logging.ERROR)\n",
    "\n",
    "try:\n",
    "    result = 10 / 0\n",
    "except ZeroDivisionError as e:\n",
    "    logging.error(\"Division by zero occurred: %s\", e)\n"
   ]
  },
  {
   "cell_type": "markdown",
   "id": "9b588615-2524-4619-ba3a-14df08495f10",
   "metadata": {},
   "source": [
    "Q7.  How do you log information at different levels (INFO, ERROR, WARNING) in Python using the logging module?"
   ]
  },
  {
   "cell_type": "code",
   "execution_count": 83,
   "id": "aaaacae5-c65c-487a-ba89-157d78252e9b",
   "metadata": {},
   "outputs": [],
   "source": [
    "import logging\n",
    "\n",
    "logging.basicConfig(level=logging.DEBUG)\n",
    "\n",
    "logging.info(\"This is an info message.\")\n",
    "logging.warning(\"This is a warning.\")\n",
    "logging.error(\"This is an error.\")\n"
   ]
  },
  {
   "cell_type": "markdown",
   "id": "ee43a42f-80d6-4b93-b032-70d85c5537bc",
   "metadata": {},
   "source": [
    "Q8. Write a program to handle a file opening error using exception handling?"
   ]
  },
  {
   "cell_type": "code",
   "execution_count": 86,
   "id": "90f7a20b-bdfb-4228-b004-ac14d0885cb6",
   "metadata": {},
   "outputs": [
    {
     "name": "stdout",
     "output_type": "stream",
     "text": [
      "The file could not be opened.\n"
     ]
    }
   ],
   "source": [
    "try:\n",
    "    with open(\"nonexistent.txt\", \"r\") as file:\n",
    "        data = file.read()\n",
    "except FileNotFoundError:\n",
    "    print(\"The file could not be opened.\")\n"
   ]
  },
  {
   "cell_type": "markdown",
   "id": "aa5b0bff-e90b-4d95-8ea8-167ac9149df2",
   "metadata": {},
   "source": [
    "Q9. How can you read a file line by line and store its content in a list in Python?"
   ]
  },
  {
   "cell_type": "code",
   "execution_count": 89,
   "id": "4ac0cc8a-aeb7-4205-b74a-a915d4bbc87d",
   "metadata": {},
   "outputs": [
    {
     "name": "stdout",
     "output_type": "stream",
     "text": [
      "['Hello, this is a test string.']\n"
     ]
    }
   ],
   "source": [
    "with open(\"example.txt\", \"r\") as file:\n",
    "    lines = [line.strip() for line in file]\n",
    "print(lines)\n"
   ]
  },
  {
   "cell_type": "markdown",
   "id": "70bbe94c-86ba-4ffe-a011-2c3c97d6711c",
   "metadata": {},
   "source": [
    "Q10. How can you append data to an existing file in Python?"
   ]
  },
  {
   "cell_type": "code",
   "execution_count": 92,
   "id": "4eef8807-5af9-426d-8acb-b83f39a056e8",
   "metadata": {},
   "outputs": [],
   "source": [
    "with open(\"example.txt\", \"a\") as file:\n",
    "    file.write(\"\\nAppended line.\")\n"
   ]
  },
  {
   "cell_type": "markdown",
   "id": "9564865d-9fe6-437d-b2fe-7e2170ed7c4d",
   "metadata": {},
   "source": [
    "Q11. Write a Python program that uses a try-except block to handle an error when attempting to access a\n",
    "dictionary key that doesn't existF"
   ]
  },
  {
   "cell_type": "code",
   "execution_count": 95,
   "id": "b5c193a2-850c-4628-9b39-266777aba578",
   "metadata": {},
   "outputs": [
    {
     "name": "stdout",
     "output_type": "stream",
     "text": [
      "Key not found in dictionary.\n"
     ]
    }
   ],
   "source": [
    "my_dict = {\"a\": 1}\n",
    "\n",
    "try:\n",
    "    print(my_dict[\"b\"])\n",
    "except KeyError:\n",
    "    print(\"Key not found in dictionary.\")\n"
   ]
  },
  {
   "cell_type": "markdown",
   "id": "f7b94930-7cb1-4f26-ab43-94f39ff25a88",
   "metadata": {},
   "source": [
    "Q12. Write a program that demonstrates using multiple except blocks to handle different types of exceptions."
   ]
  },
  {
   "cell_type": "code",
   "execution_count": 98,
   "id": "b01f46a8-eba8-45ce-afe8-88695d0abbb6",
   "metadata": {},
   "outputs": [
    {
     "name": "stdout",
     "output_type": "stream",
     "text": [
      "Division by zero.\n"
     ]
    }
   ],
   "source": [
    "try:\n",
    "    a = 1 / 0\n",
    "    b = my_dict[\"missing\"]\n",
    "except ZeroDivisionError:\n",
    "    print(\"Division by zero.\")\n",
    "except KeyError:\n",
    "    print(\"Key error.\")\n"
   ]
  },
  {
   "cell_type": "markdown",
   "id": "44f71ac9-e1a2-464f-9d8e-fbd9fac749c7",
   "metadata": {},
   "source": [
    "Q13. How would you check if a file exists before attempting to read it in Python?"
   ]
  },
  {
   "cell_type": "code",
   "execution_count": 101,
   "id": "8a0a386d-0ff4-4635-9d6d-fd524e58b430",
   "metadata": {},
   "outputs": [
    {
     "name": "stdout",
     "output_type": "stream",
     "text": [
      "Hello, this is a test string.\n",
      "Appended line.\n"
     ]
    }
   ],
   "source": [
    "import os\n",
    "\n",
    "if os.path.exists(\"example.txt\"):\n",
    "    with open(\"example.txt\", \"r\") as file:\n",
    "        print(file.read())\n",
    "else:\n",
    "    print(\"File does not exist.\")\n"
   ]
  },
  {
   "cell_type": "markdown",
   "id": "1b8e5e04-4822-4f11-b876-607cce08379d",
   "metadata": {},
   "source": [
    "Q14. Write a program that uses the logging module to log both informational and error messages"
   ]
  },
  {
   "cell_type": "code",
   "execution_count": 104,
   "id": "a20207fa-404c-4dd8-8c5e-0dc1130f48a2",
   "metadata": {},
   "outputs": [],
   "source": [
    "import logging\n",
    "\n",
    "logging.basicConfig(filename=\"logfile.log\", level=logging.DEBUG)\n",
    "logging.info(\"This is an info message.\")\n",
    "try:\n",
    "    1 / 0\n",
    "except ZeroDivisionError:\n",
    "    logging.error(\"Division by zero error.\")\n"
   ]
  },
  {
   "cell_type": "markdown",
   "id": "cad2453c-3f30-40ee-8310-fa5f54b7a54d",
   "metadata": {},
   "source": [
    "Q15. Write a Python program that prints the content of a file and handles the case when the file is empty."
   ]
  },
  {
   "cell_type": "code",
   "execution_count": 107,
   "id": "a065e1d4-b4c3-48cd-a806-7376d9815921",
   "metadata": {},
   "outputs": [
    {
     "name": "stdout",
     "output_type": "stream",
     "text": [
      "Hello, this is a test string.\n",
      "Appended line.\n"
     ]
    }
   ],
   "source": [
    "with open(\"example.txt\", \"r\") as file:\n",
    "    content = file.read()\n",
    "    if not content:\n",
    "        print(\"File is empty.\")\n",
    "    else:\n",
    "        print(content)\n"
   ]
  },
  {
   "cell_type": "markdown",
   "id": "ac3f3d5a-2874-48f9-b4f0-90b59074e79e",
   "metadata": {},
   "source": [
    "Q16. Demonstrate how to use memory profiling to check the memory usage of a small program."
   ]
  },
  {
   "cell_type": "code",
   "execution_count": 112,
   "id": "969846d5-d22c-4b48-bfbc-d68950278b1f",
   "metadata": {},
   "outputs": [
    {
     "name": "stdout",
     "output_type": "stream",
     "text": [
      "Collecting memory-profiler\n",
      "  Downloading memory_profiler-0.61.0-py3-none-any.whl.metadata (20 kB)\n",
      "Requirement already satisfied: psutil in f:\\anaconda\\lib\\site-packages (from memory-profiler) (5.9.0)\n",
      "Downloading memory_profiler-0.61.0-py3-none-any.whl (31 kB)\n",
      "Installing collected packages: memory-profiler\n",
      "Successfully installed memory-profiler-0.61.0\n",
      "Note: you may need to restart the kernel to use updated packages.\n"
     ]
    }
   ],
   "source": [
    "pip install memory-profiler"
   ]
  },
  {
   "cell_type": "code",
   "execution_count": 116,
   "id": "0419ae75-6bc9-428d-9a46-edae5322f1fb",
   "metadata": {},
   "outputs": [],
   "source": [
    "# Install memory-profiler first: pip install memory-profiler\n",
    "from memory_profiler import profile\n",
    "\n",
    "@profile\n",
    "def example():\n",
    "    data = [i for i in range(100000)]\n",
    "    return data\n",
    "\n"
   ]
  },
  {
   "cell_type": "markdown",
   "id": "292f37c8-b965-4604-90e5-2a8dd4bb0038",
   "metadata": {},
   "source": [
    "Q17. Write a Python program to create and write a list of numbers to a file, one number per line."
   ]
  },
  {
   "cell_type": "code",
   "execution_count": 119,
   "id": "a9a02211-e1aa-474d-94e3-6c5815044b87",
   "metadata": {},
   "outputs": [],
   "source": [
    "with open(\"numbers.txt\", \"w\") as file:\n",
    "    for num in range(1, 11):\n",
    "        file.write(f\"{num}\\n\")\n"
   ]
  },
  {
   "cell_type": "markdown",
   "id": "e1c15bb6-9917-4dd9-b3c7-628716c65da5",
   "metadata": {},
   "source": [
    "Q18. How would you implement a basic logging setup that logs to a file with rotation after 1MB?"
   ]
  },
  {
   "cell_type": "code",
   "execution_count": 122,
   "id": "b0c3a1e5-60a5-497f-9c8d-b891e09badb8",
   "metadata": {},
   "outputs": [],
   "source": [
    "import logging\n",
    "from logging.handlers import RotatingFileHandler\n",
    "\n",
    "handler = RotatingFileHandler(\"app.log\", maxBytes=1024*1024, backupCount=3)\n",
    "logging.basicConfig(handlers=[handler], level=logging.INFO)\n",
    "logging.info(\"This will go to a rotating log file.\")\n"
   ]
  },
  {
   "cell_type": "markdown",
   "id": "3383c337-fa00-4d07-b7a9-bb810c519934",
   "metadata": {},
   "source": [
    "Q19. Write a program that handles both IndexError and KeyError using a try-except block"
   ]
  },
  {
   "cell_type": "code",
   "execution_count": 125,
   "id": "3acd9a28-a56f-490e-b321-788b04dfc88f",
   "metadata": {},
   "outputs": [
    {
     "name": "stdout",
     "output_type": "stream",
     "text": [
      "List index out of range.\n"
     ]
    }
   ],
   "source": [
    "my_list = [1, 2, 3]\n",
    "my_dict = {\"a\": 10}\n",
    "\n",
    "try:\n",
    "    print(my_list[5])\n",
    "    print(my_dict[\"b\"])\n",
    "except IndexError:\n",
    "    print(\"List index out of range.\")\n",
    "except KeyError:\n",
    "    print(\"Dictionary key not found.\")\n"
   ]
  },
  {
   "cell_type": "markdown",
   "id": "6cdbc5d9-e013-446d-ae24-231ff4cce02a",
   "metadata": {},
   "source": [
    "Q20. How would you open a file and read its contents using a context manager in Python?"
   ]
  },
  {
   "cell_type": "code",
   "execution_count": 128,
   "id": "c1d5807c-cbb3-4812-99d7-8dffb9fdd6d1",
   "metadata": {},
   "outputs": [
    {
     "name": "stdout",
     "output_type": "stream",
     "text": [
      "Hello, this is a test string.\n",
      "Appended line.\n"
     ]
    }
   ],
   "source": [
    "with open(\"example.txt\", \"r\") as file:\n",
    "    content = file.read()\n",
    "    print(content)\n"
   ]
  },
  {
   "cell_type": "markdown",
   "id": "9434fe53-f83a-4968-ba3f-87cd554ed345",
   "metadata": {},
   "source": [
    "Q21. Write a Python program that reads a file and prints the number of occurrences of a specific word."
   ]
  },
  {
   "cell_type": "code",
   "execution_count": 131,
   "id": "40d5a678-60c4-4229-86aa-bdd11376fda4",
   "metadata": {},
   "outputs": [
    {
     "name": "stdout",
     "output_type": "stream",
     "text": [
      "'python' occurred 0 times.\n"
     ]
    }
   ],
   "source": [
    "word_to_count = \"python\"\n",
    "count = 0\n",
    "with open(\"example.txt\", \"r\") as file:\n",
    "    for line in file:\n",
    "        count += line.lower().count(word_to_count.lower())\n",
    "print(f\"'{word_to_count}' occurred {count} times.\")\n"
   ]
  },
  {
   "cell_type": "markdown",
   "id": "8f2fc978-d0f0-4315-8405-08a9a1f0cb64",
   "metadata": {},
   "source": [
    "Q22.  How can you check if a file is empty before attempting to read its contents?"
   ]
  },
  {
   "cell_type": "code",
   "execution_count": 134,
   "id": "3c6fc9e0-27a2-4f4f-8830-234804803e3d",
   "metadata": {},
   "outputs": [
    {
     "name": "stdout",
     "output_type": "stream",
     "text": [
      "Hello, this is a test string.\n",
      "Appended line.\n"
     ]
    }
   ],
   "source": [
    "import os\n",
    "\n",
    "if os.stat(\"example.txt\").st_size == 0:\n",
    "    print(\"File is empty.\")\n",
    "else:\n",
    "    with open(\"example.txt\", \"r\") as file:\n",
    "        print(file.read())\n"
   ]
  },
  {
   "cell_type": "markdown",
   "id": "288c918f-fe14-4191-abf4-64ba8bcced18",
   "metadata": {},
   "source": [
    "Q23. Write a Python program that writes to a log file when an error occurs during file handling."
   ]
  },
  {
   "cell_type": "code",
   "execution_count": 137,
   "id": "152db74e-831b-4f1c-b0a2-283c1fb2d7d3",
   "metadata": {},
   "outputs": [],
   "source": [
    "import logging\n",
    "\n",
    "logging.basicConfig(filename=\"file_errors.log\", level=logging.ERROR)\n",
    "\n",
    "try:\n",
    "    with open(\"missingfile.txt\", \"r\") as f:\n",
    "        data = f.read()\n",
    "except Exception as e:\n",
    "    logging.error(\"File handling error: %s\", e)\n"
   ]
  },
  {
   "cell_type": "code",
   "execution_count": null,
   "id": "64da74ef-6fed-4e91-be6b-4d6d31e23232",
   "metadata": {},
   "outputs": [],
   "source": []
  }
 ],
 "metadata": {
  "kernelspec": {
   "display_name": "Python [conda env:base] *",
   "language": "python",
   "name": "conda-base-py"
  },
  "language_info": {
   "codemirror_mode": {
    "name": "ipython",
    "version": 3
   },
   "file_extension": ".py",
   "mimetype": "text/x-python",
   "name": "python",
   "nbconvert_exporter": "python",
   "pygments_lexer": "ipython3",
   "version": "3.12.7"
  }
 },
 "nbformat": 4,
 "nbformat_minor": 5
}
